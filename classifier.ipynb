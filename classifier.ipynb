{
  "nbformat": 4,
  "nbformat_minor": 0,
  "metadata": {
    "kernelspec": {
      "display_name": "Python 3",
      "language": "python",
      "name": "python3"
    },
    "language_info": {
      "codemirror_mode": {
        "name": "ipython",
        "version": 3
      },
      "file_extension": ".py",
      "mimetype": "text/x-python",
      "name": "python",
      "nbconvert_exporter": "python",
      "pygments_lexer": "ipython3",
      "version": "3.7.3"
    },
    "colab": {
      "name": "test.ipynb",
      "provenance": [],
      "collapsed_sections": [],
      "include_colab_link": true
    },
    "accelerator": "GPU"
  },
  "cells": [
    {
      "cell_type": "markdown",
      "metadata": {
        "id": "view-in-github",
        "colab_type": "text"
      },
      "source": [
        "<a href=\"https://colab.research.google.com/github/varun1414/youtube_class/blob/master/classifier.ipynb\" target=\"_parent\"><img src=\"https://colab.research.google.com/assets/colab-badge.svg\" alt=\"Open In Colab\"/></a>"
      ]
    },
    {
      "cell_type": "code",
      "metadata": {
        "id": "nc6nyHROJQFU",
        "colab_type": "code",
        "colab": {}
      },
      "source": [
        "%reload_ext autoreload\n",
        "%autoreload 2\n",
        "%matplotlib inline"
      ],
      "execution_count": 50,
      "outputs": []
    },
    {
      "cell_type": "code",
      "metadata": {
        "id": "1GEjqrBPTsdA",
        "colab_type": "code",
        "colab": {}
      },
      "source": [
        "from fastai import *\n",
        "from fastai.text import *"
      ],
      "execution_count": 51,
      "outputs": []
    },
    {
      "cell_type": "code",
      "metadata": {
        "id": "aTJCZq0VJzFe",
        "colab_type": "code",
        "colab": {}
      },
      "source": [
        "import pandas as pd\n"
      ],
      "execution_count": null,
      "outputs": []
    },
    {
      "cell_type": "code",
      "metadata": {
        "id": "IZXtIKz_J2wN",
        "colab_type": "code",
        "colab": {
          "base_uri": "https://localhost:8080/",
          "height": 402
        },
        "outputId": "3df7055a-dca5-4a26-b976-72411d76e5b6"
      },
      "source": [
        "df=pd.read_csv('./sample_data/Youtube Video Dataset.csv')\n",
        "df"
      ],
      "execution_count": null,
      "outputs": [
        {
          "output_type": "execute_result",
          "data": {
            "text/html": [
              "<div>\n",
              "<style scoped>\n",
              "    .dataframe tbody tr th:only-of-type {\n",
              "        vertical-align: middle;\n",
              "    }\n",
              "\n",
              "    .dataframe tbody tr th {\n",
              "        vertical-align: top;\n",
              "    }\n",
              "\n",
              "    .dataframe thead th {\n",
              "        text-align: right;\n",
              "    }\n",
              "</style>\n",
              "<table border=\"1\" class=\"dataframe\">\n",
              "  <thead>\n",
              "    <tr style=\"text-align: right;\">\n",
              "      <th></th>\n",
              "      <th>Title</th>\n",
              "      <th>Videourl</th>\n",
              "      <th>Category</th>\n",
              "      <th>Description</th>\n",
              "    </tr>\n",
              "  </thead>\n",
              "  <tbody>\n",
              "    <tr>\n",
              "      <th>0</th>\n",
              "      <td>Madagascar Street Food!!! Super RARE Malagasy ...</td>\n",
              "      <td>/watch?v=EwBA1fOQ96c</td>\n",
              "      <td>Food</td>\n",
              "      <td>🎥GIANT ALIEN SNAIL IN JAPAN! » https://youtu.b...</td>\n",
              "    </tr>\n",
              "    <tr>\n",
              "      <th>1</th>\n",
              "      <td>42 Foods You Need To Eat Before You Die</td>\n",
              "      <td>/watch?v=0SPwwpruGIA</td>\n",
              "      <td>Food</td>\n",
              "      <td>This is the ultimate must-try food bucket list...</td>\n",
              "    </tr>\n",
              "    <tr>\n",
              "      <th>2</th>\n",
              "      <td>Gordon Ramsay’s Top 5 Indian Dishes</td>\n",
              "      <td>/watch?v=upfu5nQB2ks</td>\n",
              "      <td>Food</td>\n",
              "      <td>We found 5 of the best and most interesting In...</td>\n",
              "    </tr>\n",
              "    <tr>\n",
              "      <th>3</th>\n",
              "      <td>How To Use Chopsticks - In About A Minute 🍜</td>\n",
              "      <td>/watch?v=xFRzzSF_6gk</td>\n",
              "      <td>Food</td>\n",
              "      <td>You're most likely sitting in a restaurant wit...</td>\n",
              "    </tr>\n",
              "    <tr>\n",
              "      <th>4</th>\n",
              "      <td>Trying Indian Food 1st Time!</td>\n",
              "      <td>/watch?v=K79bXtaRwcM</td>\n",
              "      <td>Food</td>\n",
              "      <td>HELP SUPPORT SINSTV!! Shop Our Sponsors!\\nLast...</td>\n",
              "    </tr>\n",
              "    <tr>\n",
              "      <th>...</th>\n",
              "      <td>...</td>\n",
              "      <td>...</td>\n",
              "      <td>...</td>\n",
              "      <td>...</td>\n",
              "    </tr>\n",
              "    <tr>\n",
              "      <th>11206</th>\n",
              "      <td>art journal | shimmer sprays, stencils, collag...</td>\n",
              "      <td>/watch?v=mJBOQr_-8_Y</td>\n",
              "      <td>Art&amp;Music</td>\n",
              "      <td>Step by step video on creating an art journal ...</td>\n",
              "    </tr>\n",
              "    <tr>\n",
              "      <th>11207</th>\n",
              "      <td>Ar-Tea Collage * Mixed Media Art</td>\n",
              "      <td>/watch?v=GOihUhnZxtw</td>\n",
              "      <td>Art&amp;Music</td>\n",
              "      <td>By: Ilene McInnes,\\nMixed media Art and inspir...</td>\n",
              "    </tr>\n",
              "    <tr>\n",
              "      <th>11208</th>\n",
              "      <td>DIY Mixed Media Art Collage Greeting Cards / M...</td>\n",
              "      <td>/watch?v=BchUtLfjews</td>\n",
              "      <td>Art&amp;Music</td>\n",
              "      <td>Make your own Mixed Media Greeting Cards\\n\\nHe...</td>\n",
              "    </tr>\n",
              "    <tr>\n",
              "      <th>11209</th>\n",
              "      <td>Art Collage Process DecoJournal using Rice Pap...</td>\n",
              "      <td>/watch?v=FlQ_j-cflQc</td>\n",
              "      <td>Art&amp;Music</td>\n",
              "      <td>Art Collage Process DecoJournal using Rice Pap...</td>\n",
              "    </tr>\n",
              "    <tr>\n",
              "      <th>11210</th>\n",
              "      <td>Journal Collage Process using Magazine Cut Out...</td>\n",
              "      <td>/watch?v=OakWQvYMP4w</td>\n",
              "      <td>Art&amp;Music</td>\n",
              "      <td>Using magazine, scrapbook paper, recycled old ...</td>\n",
              "    </tr>\n",
              "  </tbody>\n",
              "</table>\n",
              "<p>11211 rows × 4 columns</p>\n",
              "</div>"
            ],
            "text/plain": [
              "                                                   Title  ...                                        Description\n",
              "0      Madagascar Street Food!!! Super RARE Malagasy ...  ...  🎥GIANT ALIEN SNAIL IN JAPAN! » https://youtu.b...\n",
              "1                42 Foods You Need To Eat Before You Die  ...  This is the ultimate must-try food bucket list...\n",
              "2                    Gordon Ramsay’s Top 5 Indian Dishes  ...  We found 5 of the best and most interesting In...\n",
              "3            How To Use Chopsticks - In About A Minute 🍜  ...  You're most likely sitting in a restaurant wit...\n",
              "4                           Trying Indian Food 1st Time!  ...  HELP SUPPORT SINSTV!! Shop Our Sponsors!\\nLast...\n",
              "...                                                  ...  ...                                                ...\n",
              "11206  art journal | shimmer sprays, stencils, collag...  ...  Step by step video on creating an art journal ...\n",
              "11207                   Ar-Tea Collage * Mixed Media Art  ...  By: Ilene McInnes,\\nMixed media Art and inspir...\n",
              "11208  DIY Mixed Media Art Collage Greeting Cards / M...  ...  Make your own Mixed Media Greeting Cards\\n\\nHe...\n",
              "11209  Art Collage Process DecoJournal using Rice Pap...  ...  Art Collage Process DecoJournal using Rice Pap...\n",
              "11210  Journal Collage Process using Magazine Cut Out...  ...  Using magazine, scrapbook paper, recycled old ...\n",
              "\n",
              "[11211 rows x 4 columns]"
            ]
          },
          "metadata": {
            "tags": []
          },
          "execution_count": 14
        }
      ]
    },
    {
      "cell_type": "code",
      "metadata": {
        "id": "WrGdbXznMJjR",
        "colab_type": "code",
        "colab": {
          "base_uri": "https://localhost:8080/",
          "height": 50
        },
        "outputId": "3ef58578-6a76-4f5d-c67c-46d2b217ce23"
      },
      "source": [
        "df['Category'].unique()"
      ],
      "execution_count": null,
      "outputs": [
        {
          "output_type": "execute_result",
          "data": {
            "text/plain": [
              "array(['Food', 'manufacturing', 'History', 'travel blog',\n",
              "       'Science&Technology', 'Art&Music'], dtype=object)"
            ]
          },
          "metadata": {
            "tags": []
          },
          "execution_count": 17
        }
      ]
    },
    {
      "cell_type": "code",
      "metadata": {
        "id": "p6NpMLjfMJdi",
        "colab_type": "code",
        "colab": {
          "base_uri": "https://localhost:8080/",
          "height": 402
        },
        "outputId": "fca51b12-422c-452d-b10b-9cd51acd01e4"
      },
      "source": [
        "df['labels']=df['Category']\n",
        "# df['labels']=df[df['Category']=='manufacturing']=1\n",
        "df['labels'][df['labels']=='Food']=0\n",
        "df['labels'][df['labels']=='manufacturing']=1\n",
        "df['labels'][df['labels']=='History']=2\n",
        "df['labels'][df['labels']=='travel blog']=3\n",
        "df['labels'][df['labels']=='Science&Technology']=4\n",
        "df['labels'][df['labels']=='Art&Music']=5\n",
        "df"
      ],
      "execution_count": 145,
      "outputs": [
        {
          "output_type": "execute_result",
          "data": {
            "text/html": [
              "<div>\n",
              "<style scoped>\n",
              "    .dataframe tbody tr th:only-of-type {\n",
              "        vertical-align: middle;\n",
              "    }\n",
              "\n",
              "    .dataframe tbody tr th {\n",
              "        vertical-align: top;\n",
              "    }\n",
              "\n",
              "    .dataframe thead th {\n",
              "        text-align: right;\n",
              "    }\n",
              "</style>\n",
              "<table border=\"1\" class=\"dataframe\">\n",
              "  <thead>\n",
              "    <tr style=\"text-align: right;\">\n",
              "      <th></th>\n",
              "      <th>Title</th>\n",
              "      <th>Videourl</th>\n",
              "      <th>Category</th>\n",
              "      <th>Description</th>\n",
              "      <th>labels</th>\n",
              "    </tr>\n",
              "  </thead>\n",
              "  <tbody>\n",
              "    <tr>\n",
              "      <th>0</th>\n",
              "      <td>Madagascar Street Food!!! Super RARE Malagasy ...</td>\n",
              "      <td>/watch?v=EwBA1fOQ96c</td>\n",
              "      <td>Food</td>\n",
              "      <td>🎥GIANT ALIEN SNAIL IN JAPAN! » https://youtu.b...</td>\n",
              "      <td>0</td>\n",
              "    </tr>\n",
              "    <tr>\n",
              "      <th>1</th>\n",
              "      <td>42 Foods You Need To Eat Before You Die</td>\n",
              "      <td>/watch?v=0SPwwpruGIA</td>\n",
              "      <td>Food</td>\n",
              "      <td>This is the ultimate must-try food bucket list...</td>\n",
              "      <td>0</td>\n",
              "    </tr>\n",
              "    <tr>\n",
              "      <th>2</th>\n",
              "      <td>Gordon Ramsay’s Top 5 Indian Dishes</td>\n",
              "      <td>/watch?v=upfu5nQB2ks</td>\n",
              "      <td>Food</td>\n",
              "      <td>We found 5 of the best and most interesting In...</td>\n",
              "      <td>0</td>\n",
              "    </tr>\n",
              "    <tr>\n",
              "      <th>3</th>\n",
              "      <td>How To Use Chopsticks - In About A Minute 🍜</td>\n",
              "      <td>/watch?v=xFRzzSF_6gk</td>\n",
              "      <td>Food</td>\n",
              "      <td>You're most likely sitting in a restaurant wit...</td>\n",
              "      <td>0</td>\n",
              "    </tr>\n",
              "    <tr>\n",
              "      <th>4</th>\n",
              "      <td>Trying Indian Food 1st Time!</td>\n",
              "      <td>/watch?v=K79bXtaRwcM</td>\n",
              "      <td>Food</td>\n",
              "      <td>HELP SUPPORT SINSTV!! Shop Our Sponsors!\\nLast...</td>\n",
              "      <td>0</td>\n",
              "    </tr>\n",
              "    <tr>\n",
              "      <th>...</th>\n",
              "      <td>...</td>\n",
              "      <td>...</td>\n",
              "      <td>...</td>\n",
              "      <td>...</td>\n",
              "      <td>...</td>\n",
              "    </tr>\n",
              "    <tr>\n",
              "      <th>11206</th>\n",
              "      <td>art journal | shimmer sprays, stencils, collag...</td>\n",
              "      <td>/watch?v=mJBOQr_-8_Y</td>\n",
              "      <td>Art&amp;Music</td>\n",
              "      <td>Step by step video on creating an art journal ...</td>\n",
              "      <td>5</td>\n",
              "    </tr>\n",
              "    <tr>\n",
              "      <th>11207</th>\n",
              "      <td>Ar-Tea Collage * Mixed Media Art</td>\n",
              "      <td>/watch?v=GOihUhnZxtw</td>\n",
              "      <td>Art&amp;Music</td>\n",
              "      <td>By: Ilene McInnes,\\nMixed media Art and inspir...</td>\n",
              "      <td>5</td>\n",
              "    </tr>\n",
              "    <tr>\n",
              "      <th>11208</th>\n",
              "      <td>DIY Mixed Media Art Collage Greeting Cards / M...</td>\n",
              "      <td>/watch?v=BchUtLfjews</td>\n",
              "      <td>Art&amp;Music</td>\n",
              "      <td>Make your own Mixed Media Greeting Cards\\n\\nHe...</td>\n",
              "      <td>5</td>\n",
              "    </tr>\n",
              "    <tr>\n",
              "      <th>11209</th>\n",
              "      <td>Art Collage Process DecoJournal using Rice Pap...</td>\n",
              "      <td>/watch?v=FlQ_j-cflQc</td>\n",
              "      <td>Art&amp;Music</td>\n",
              "      <td>Art Collage Process DecoJournal using Rice Pap...</td>\n",
              "      <td>5</td>\n",
              "    </tr>\n",
              "    <tr>\n",
              "      <th>11210</th>\n",
              "      <td>Journal Collage Process using Magazine Cut Out...</td>\n",
              "      <td>/watch?v=OakWQvYMP4w</td>\n",
              "      <td>Art&amp;Music</td>\n",
              "      <td>Using magazine, scrapbook paper, recycled old ...</td>\n",
              "      <td>5</td>\n",
              "    </tr>\n",
              "  </tbody>\n",
              "</table>\n",
              "<p>11211 rows × 5 columns</p>\n",
              "</div>"
            ],
            "text/plain": [
              "                                                   Title  ... labels\n",
              "0      Madagascar Street Food!!! Super RARE Malagasy ...  ...      0\n",
              "1                42 Foods You Need To Eat Before You Die  ...      0\n",
              "2                    Gordon Ramsay’s Top 5 Indian Dishes  ...      0\n",
              "3            How To Use Chopsticks - In About A Minute 🍜  ...      0\n",
              "4                           Trying Indian Food 1st Time!  ...      0\n",
              "...                                                  ...  ...    ...\n",
              "11206  art journal | shimmer sprays, stencils, collag...  ...      5\n",
              "11207                   Ar-Tea Collage * Mixed Media Art  ...      5\n",
              "11208  DIY Mixed Media Art Collage Greeting Cards / M...  ...      5\n",
              "11209  Art Collage Process DecoJournal using Rice Pap...  ...      5\n",
              "11210  Journal Collage Process using Magazine Cut Out...  ...      5\n",
              "\n",
              "[11211 rows x 5 columns]"
            ]
          },
          "metadata": {
            "tags": []
          },
          "execution_count": 145
        }
      ]
    },
    {
      "cell_type": "code",
      "metadata": {
        "id": "yD4DJdCGLijw",
        "colab_type": "code",
        "colab": {
          "base_uri": "https://localhost:8080/",
          "height": 218
        },
        "outputId": "b790ca4d-396b-4c13-87c1-bb10a3023c4d"
      },
      "source": [
        "df['Title']"
      ],
      "execution_count": 166,
      "outputs": [
        {
          "output_type": "execute_result",
          "data": {
            "text/plain": [
              "0        Madagascar Street Food!!! Super RARE Malagasy ...\n",
              "1                  42 Foods You Need To Eat Before You Die\n",
              "2                      Gordon Ramsay’s Top 5 Indian Dishes\n",
              "3              How To Use Chopsticks - In About A Minute 🍜\n",
              "4                             Trying Indian Food 1st Time!\n",
              "                               ...                        \n",
              "11206    art journal | shimmer sprays, stencils, collag...\n",
              "11207                     Ar-Tea Collage * Mixed Media Art\n",
              "11208    DIY Mixed Media Art Collage Greeting Cards / M...\n",
              "11209    Art Collage Process DecoJournal using Rice Pap...\n",
              "11210    Journal Collage Process using Magazine Cut Out...\n",
              "Name: Title, Length: 11211, dtype: object"
            ]
          },
          "metadata": {
            "tags": []
          },
          "execution_count": 166
        }
      ]
    },
    {
      "cell_type": "code",
      "metadata": {
        "id": "jiQwgPVaZs8C",
        "colab_type": "code",
        "colab": {
          "base_uri": "https://localhost:8080/",
          "height": 402
        },
        "outputId": "783c153c-2aa5-49f9-b1c5-c002fb97790f"
      },
      "source": [
        "df = df.sample(frac=1).reset_index(drop=True)\n",
        "\n",
        "df_tr=pd.DataFrame({'text':df['Title'][0:9000],'labels':df['labels'][0:9000]})\n",
        "df_tr\n",
        "df_v=pd.DataFrame({\"text\":df['Title'][9000:],'labels':df['labels'][9000:]})\n",
        "df_v.reset_index(inplace=True,drop=True)\n",
        "df_v"
      ],
      "execution_count": 167,
      "outputs": [
        {
          "output_type": "execute_result",
          "data": {
            "text/html": [
              "<div>\n",
              "<style scoped>\n",
              "    .dataframe tbody tr th:only-of-type {\n",
              "        vertical-align: middle;\n",
              "    }\n",
              "\n",
              "    .dataframe tbody tr th {\n",
              "        vertical-align: top;\n",
              "    }\n",
              "\n",
              "    .dataframe thead th {\n",
              "        text-align: right;\n",
              "    }\n",
              "</style>\n",
              "<table border=\"1\" class=\"dataframe\">\n",
              "  <thead>\n",
              "    <tr style=\"text-align: right;\">\n",
              "      <th></th>\n",
              "      <th>text</th>\n",
              "      <th>labels</th>\n",
              "    </tr>\n",
              "  </thead>\n",
              "  <tbody>\n",
              "    <tr>\n",
              "      <th>0</th>\n",
              "      <td>Furious World Tour | Vancouver, Canada - MASSI...</td>\n",
              "      <td>0</td>\n",
              "    </tr>\n",
              "    <tr>\n",
              "      <th>1</th>\n",
              "      <td>My Full Expense Video of Malaysia and Singapor...</td>\n",
              "      <td>3</td>\n",
              "    </tr>\n",
              "    <tr>\n",
              "      <th>2</th>\n",
              "      <td>1</td>\n",
              "      <td>1</td>\n",
              "    </tr>\n",
              "    <tr>\n",
              "      <th>3</th>\n",
              "      <td>Men vs. Women: Who Really Gets Sicker?</td>\n",
              "      <td>4</td>\n",
              "    </tr>\n",
              "    <tr>\n",
              "      <th>4</th>\n",
              "      <td>Art of You Art Collage</td>\n",
              "      <td>5</td>\n",
              "    </tr>\n",
              "    <tr>\n",
              "      <th>...</th>\n",
              "      <td>...</td>\n",
              "      <td>...</td>\n",
              "    </tr>\n",
              "    <tr>\n",
              "      <th>2206</th>\n",
              "      <td>രുചിയുടെ കലവറ തേടി Oryx Village Kanhangad, Exp...</td>\n",
              "      <td>3</td>\n",
              "    </tr>\n",
              "    <tr>\n",
              "      <th>2207</th>\n",
              "      <td>Top 10 YouTube Travellers</td>\n",
              "      <td>3</td>\n",
              "    </tr>\n",
              "    <tr>\n",
              "      <th>2208</th>\n",
              "      <td>Hanging out at a Korean Cafe and Travel Bloggi...</td>\n",
              "      <td>3</td>\n",
              "    </tr>\n",
              "    <tr>\n",
              "      <th>2209</th>\n",
              "      <td>6 Northeastern Chinese Dishes You NEED to Try!</td>\n",
              "      <td>0</td>\n",
              "    </tr>\n",
              "    <tr>\n",
              "      <th>2210</th>\n",
              "      <td>Taj Rambagh Palace - Jaipur| Most Luxurious Su...</td>\n",
              "      <td>3</td>\n",
              "    </tr>\n",
              "  </tbody>\n",
              "</table>\n",
              "<p>2211 rows × 2 columns</p>\n",
              "</div>"
            ],
            "text/plain": [
              "                                                   text labels\n",
              "0     Furious World Tour | Vancouver, Canada - MASSI...      0\n",
              "1     My Full Expense Video of Malaysia and Singapor...      3\n",
              "2                                                     1      1\n",
              "3                Men vs. Women: Who Really Gets Sicker?      4\n",
              "4                                Art of You Art Collage      5\n",
              "...                                                 ...    ...\n",
              "2206  രുചിയുടെ കലവറ തേടി Oryx Village Kanhangad, Exp...      3\n",
              "2207                          Top 10 YouTube Travellers      3\n",
              "2208  Hanging out at a Korean Cafe and Travel Bloggi...      3\n",
              "2209     6 Northeastern Chinese Dishes You NEED to Try!      0\n",
              "2210  Taj Rambagh Palace - Jaipur| Most Luxurious Su...      3\n",
              "\n",
              "[2211 rows x 2 columns]"
            ]
          },
          "metadata": {
            "tags": []
          },
          "execution_count": 167
        }
      ]
    },
    {
      "cell_type": "code",
      "metadata": {
        "id": "5TNlPnfALlou",
        "colab_type": "code",
        "colab": {
          "base_uri": "https://localhost:8080/",
          "height": 17
        },
        "outputId": "45b26f5f-1d50-4055-edac-d04a372d3859"
      },
      "source": [
        "data_lm = TextLMDataBunch.from_df('./',train_df=df_tr,valid_df=df_v,text_cols='text')"
      ],
      "execution_count": 168,
      "outputs": [
        {
          "output_type": "display_data",
          "data": {
            "text/html": [
              ""
            ],
            "text/plain": [
              "<IPython.core.display.HTML object>"
            ]
          },
          "metadata": {
            "tags": []
          }
        },
        {
          "output_type": "display_data",
          "data": {
            "text/html": [
              ""
            ],
            "text/plain": [
              "<IPython.core.display.HTML object>"
            ]
          },
          "metadata": {
            "tags": []
          }
        }
      ]
    },
    {
      "cell_type": "code",
      "metadata": {
        "id": "JF41FBcAUKHi",
        "colab_type": "code",
        "colab": {
          "base_uri": "https://localhost:8080/",
          "height": 279
        },
        "outputId": "01fafce4-4342-491e-faa6-46df6b321723"
      },
      "source": [
        "data_lm.show_batch()"
      ],
      "execution_count": 169,
      "outputs": [
        {
          "output_type": "display_data",
          "data": {
            "text/html": [
              "<table border=\"1\" class=\"dataframe\">\n",
              "  <thead>\n",
              "    <tr style=\"text-align: right;\">\n",
              "      <th>idx</th>\n",
              "      <th>text</th>\n",
              "    </tr>\n",
              "  </thead>\n",
              "  <tbody>\n",
              "    <tr>\n",
              "      <td>0</td>\n",
              "      <td>xxmaj tom xxmaj xxunk - xxmaj science and xxmaj technology : xxmaj new xxmaj frontiers for xxmaj helping xxmaj people with xxmaj mental xxmaj illness . xxbos xxmaj xxunk xxmaj xxunk - xxmaj xxunk to xxmaj be ( feat . xxmaj florida xxmaj georgia xxmaj line ) [ xxmaj official xxmaj music xxmaj video ] xxbos xxunk xxunk xxunk xxbos xxmaj how xxmaj to xxmaj plan a xxmaj trip to</td>\n",
              "    </tr>\n",
              "    <tr>\n",
              "      <td>1</td>\n",
              "      <td>edition - xxmaj book xxmaj review xxbos xxup learn xxup how xxup to xxup do xxup collage xxup flower xxup visual xxup art xxup attack xxup must xxup watch xxbos | xxmaj road trip | xxup xxunk xxmaj video xxmaj blog | xxbos xxmaj snapchat xxmaj travel xxmaj blogger takeover in xxmaj new xxmaj xxunk - xxunk xxbos विज्ञान के xxunk xxunk 2 | xxmaj crazy science technology | xxmaj</td>\n",
              "    </tr>\n",
              "    <tr>\n",
              "      <td>2</td>\n",
              "      <td>japanese xxmaj xxunk xxmaj kept xxmaj their xxmaj blood xxmaj pure | xxmaj history of xxmaj japan 29 xxbos a xxmaj different xxmaj side of xxmaj dubai - xxmaj xxunk ( xxmaj local xxmaj markets ) xxbos xxmaj career choices with a xxmaj culinary xxmaj arts degree xxbos xxmaj the incredible history of xxmaj china 's xxunk warriors - xxmaj megan xxmaj campisi and xxmaj pen - xxmaj pen xxmaj</td>\n",
              "    </tr>\n",
              "    <tr>\n",
              "      <td>3</td>\n",
              "      <td>1 xxbos xxmaj toy xxmaj smartphone coloring and drawing , xxmaj painting colours &amp; xxmaj learn xxmaj colors for kids | xxmaj kids xxmaj art xxmaj time xxbos xxmaj art meaning in xxmaj urdu | xxup art in xxmaj hindi | xxmaj english xxunk xxunk into xxmaj urdu xxbos 1 xxbos xxmaj op xxmaj art xxmaj collage xxmaj project xxbos xxmaj ted xxmaj talks xxmaj india | नई xxunk |</td>\n",
              "    </tr>\n",
              "    <tr>\n",
              "      <td>4</td>\n",
              "      <td>xxmaj how xxmaj to xxmaj live xxmaj to 100 xxbos xxmaj transforming xxmaj myself xxmaj into xxmaj my xxmaj dog xxbos 1 xxbos xxmaj luke xxmaj nguyen 's street food around the world episode 1- saigon vietnam xxbos 1 xxbos xxup brunch at xxup 7-eleven in xxmaj seoul xxmaj south xxmaj korea xxbos 1 xxbos xxmaj xxunk xxmaj xxunk | xxmaj come xxunk un travel blogger di xxunk xxbos xxmaj</td>\n",
              "    </tr>\n",
              "  </tbody>\n",
              "</table>"
            ],
            "text/plain": [
              "<IPython.core.display.HTML object>"
            ]
          },
          "metadata": {
            "tags": []
          }
        }
      ]
    },
    {
      "cell_type": "code",
      "metadata": {
        "id": "6fmPBzszJQFa",
        "colab_type": "code",
        "colab": {
          "base_uri": "https://localhost:8080/",
          "height": 195
        },
        "outputId": "ecb3b32a-710e-4202-b6fd-a27df5edb03b"
      },
      "source": [
        "data = TextClasDataBunch.from_df('./', train_df=df_tr,valid_df=df_v,text_cols='text',label_cols='labels')\n",
        "data.show_batch()"
      ],
      "execution_count": 170,
      "outputs": [
        {
          "output_type": "display_data",
          "data": {
            "text/html": [
              ""
            ],
            "text/plain": [
              "<IPython.core.display.HTML object>"
            ]
          },
          "metadata": {
            "tags": []
          }
        },
        {
          "output_type": "display_data",
          "data": {
            "text/html": [
              ""
            ],
            "text/plain": [
              "<IPython.core.display.HTML object>"
            ]
          },
          "metadata": {
            "tags": []
          }
        },
        {
          "output_type": "display_data",
          "data": {
            "text/html": [
              "<table border=\"1\" class=\"dataframe\">\n",
              "  <thead>\n",
              "    <tr style=\"text-align: right;\">\n",
              "      <th>text</th>\n",
              "      <th>target</th>\n",
              "    </tr>\n",
              "  </thead>\n",
              "  <tbody>\n",
              "    <tr>\n",
              "      <td>xxbos xxmaj we 're xxmaj going to xxup sri xxup lanka ! ! ! xxup so xxup xxunk ! ! ! + xxup huge xxup bowl xxmaj chinese xxmaj street xxmaj food xxmaj dan xxmaj dan xxmaj noodle in xxmaj chengdu !</td>\n",
              "      <td>0</td>\n",
              "    </tr>\n",
              "    <tr>\n",
              "      <td>xxbos xxup huge xxmaj street xxmaj food xxmaj tour of xxmaj colombo , xxmaj sri xxmaj lanka - xxup insane xxup seafood + xxup curry w / xxup giant xxup god xxup level xxup mud xxup crabs !</td>\n",
              "      <td>0</td>\n",
              "    </tr>\n",
              "    <tr>\n",
              "      <td>xxbos xxup ancient xxup indian xxup history , xxup xxunk , [ xxup upsc / xxup ssc xxup cgl / xxup state xxup psc / xxup xxunk / xxup cds / xxup other xxup government xxup exams ]</td>\n",
              "      <td>2</td>\n",
              "    </tr>\n",
              "    <tr>\n",
              "      <td>xxbos xxmaj midnight xxmaj club xxup ii xxmaj xxunk xxup hd xxup eng / xxup xxunk part 4 - xxmaj paris vol . 1 - xxmaj blog xxmaj jewel &amp; xxmaj julie xxmaj xxunk % xxmaj game )</td>\n",
              "      <td>3</td>\n",
              "    </tr>\n",
              "    <tr>\n",
              "      <td>xxbos xxmaj family xxmaj travel xxmaj blog- xxmaj rock xxmaj spa xxmaj xxunk 's xxmaj all xxmaj xxunk xxmaj xxunk xxmaj kids ' xxmaj spa , xxmaj hard xxmaj rock xxmaj hotel xxmaj penang , xxmaj malaysia</td>\n",
              "      <td>3</td>\n",
              "    </tr>\n",
              "  </tbody>\n",
              "</table>"
            ],
            "text/plain": [
              "<IPython.core.display.HTML object>"
            ]
          },
          "metadata": {
            "tags": []
          }
        }
      ]
    },
    {
      "cell_type": "code",
      "metadata": {
        "id": "GPZxY789JQFe",
        "colab_type": "code",
        "colab": {
          "base_uri": "https://localhost:8080/",
          "height": 185
        },
        "outputId": "4f398567-0f97-4439-9691-3b3d82202a2d"
      },
      "source": [
        "data.vocab.itos[:10]"
      ],
      "execution_count": 171,
      "outputs": [
        {
          "output_type": "execute_result",
          "data": {
            "text/plain": [
              "['xxunk',\n",
              " 'xxpad',\n",
              " 'xxbos',\n",
              " 'xxeos',\n",
              " 'xxfld',\n",
              " 'xxmaj',\n",
              " 'xxup',\n",
              " 'xxrep',\n",
              " 'xxwrep',\n",
              " '-']"
            ]
          },
          "metadata": {
            "tags": []
          },
          "execution_count": 171
        }
      ]
    },
    {
      "cell_type": "code",
      "metadata": {
        "id": "dWpizl1ddJi0",
        "colab_type": "code",
        "colab": {
          "base_uri": "https://localhost:8080/",
          "height": 34
        },
        "outputId": "2e4444ef-5d15-4e90-f2a4-3f29b4aa3f43"
      },
      "source": [
        "data.train_ds[0][0]"
      ],
      "execution_count": 172,
      "outputs": [
        {
          "output_type": "execute_result",
          "data": {
            "text/plain": [
              "Text [   2    5  610   13    5  335    5   64    0    6   64    6   25    6   39   10    5 2302    5 3085]"
            ]
          },
          "metadata": {
            "tags": []
          },
          "execution_count": 172
        }
      ]
    },
    {
      "cell_type": "code",
      "metadata": {
        "id": "WuE4xsYFdMS6",
        "colab_type": "code",
        "colab": {
          "base_uri": "https://localhost:8080/",
          "height": 34
        },
        "outputId": "171a9309-16fd-4a66-8a7e-ecc1859ee4bd"
      },
      "source": [
        "data.train_ds[0][0].data[:10]"
      ],
      "execution_count": 173,
      "outputs": [
        {
          "output_type": "execute_result",
          "data": {
            "text/plain": [
              "array([  2,   5, 610,  13,   5, 335,   5,  64,   0,   6])"
            ]
          },
          "metadata": {
            "tags": []
          },
          "execution_count": 173
        }
      ]
    },
    {
      "cell_type": "code",
      "metadata": {
        "id": "_QKDEANTdPH8",
        "colab_type": "code",
        "colab": {
          "base_uri": "https://localhost:8080/",
          "height": 17
        },
        "outputId": "52d013ff-4fe8-4315-8698-9727609803df"
      },
      "source": [
        "data_lm = (TextList.from_df(df,'.')\n",
        "           #Inputs: all the text files in path\n",
        "            \n",
        "           #We may have other temp folders that contain text files so we only keep what's in train and test\n",
        "            .split_by_rand_pct(0.1)\n",
        "           #We randomly split and keep 10% (10,000 reviews) for validation\n",
        "            .label_for_lm()           \n",
        "           #We want to do a language model so we label accordingly\n",
        "            .databunch(bs=50))"
      ],
      "execution_count": 174,
      "outputs": [
        {
          "output_type": "display_data",
          "data": {
            "text/html": [
              ""
            ],
            "text/plain": [
              "<IPython.core.display.HTML object>"
            ]
          },
          "metadata": {
            "tags": []
          }
        },
        {
          "output_type": "display_data",
          "data": {
            "text/html": [
              ""
            ],
            "text/plain": [
              "<IPython.core.display.HTML object>"
            ]
          },
          "metadata": {
            "tags": []
          }
        }
      ]
    },
    {
      "cell_type": "code",
      "metadata": {
        "id": "VM_y4Y7Qelu_",
        "colab_type": "code",
        "colab": {
          "base_uri": "https://localhost:8080/",
          "height": 279
        },
        "outputId": "e8907b94-6fbc-40a6-dbfe-a5c0ba72f794"
      },
      "source": [
        "data_lm.show_batch()"
      ],
      "execution_count": 175,
      "outputs": [
        {
          "output_type": "display_data",
          "data": {
            "text/html": [
              "<table border=\"1\" class=\"dataframe\">\n",
              "  <thead>\n",
              "    <tr style=\"text-align: right;\">\n",
              "      <th>idx</th>\n",
              "      <th>text</th>\n",
              "    </tr>\n",
              "  </thead>\n",
              "  <tbody>\n",
              "    <tr>\n",
              "      <td>0</td>\n",
              "      <td>for xxmaj helping xxmaj people with xxmaj mental xxmaj xxunk . xxbos xxmaj xxunk xxmaj xxunk - xxmaj xxunk to xxmaj be ( feat . xxmaj florida xxmaj georgia xxmaj line ) [ xxmaj official xxmaj music xxmaj video ] xxbos xxunk xxunk xxunk xxbos xxmaj how xxmaj to xxmaj plan a xxmaj trip to xxmaj goa xxmaj in xxmaj budget | xxmaj tips and xxmaj xxunk for xxmaj goa</td>\n",
              "    </tr>\n",
              "    <tr>\n",
              "      <td>1</td>\n",
              "      <td>music education game xxup xxunk xxbos xxmaj street xxmaj food xxmaj around xxmaj the xxmaj world - xxmaj asian xxmaj street xxmaj food , xxmaj fast xxmaj food xxmaj street in xxmaj asia # xxunk xxbos xxmaj art and xxmaj music / xxup yoga and xxup meditation / 1 h 40 xxup tai xxup chi and relax music xxbos xxmaj get xxmaj xxunk ! xxmaj scientists xxmaj say xxmaj it</td>\n",
              "    </tr>\n",
              "    <tr>\n",
              "      <td>2</td>\n",
              "      <td>xxmaj actually xxmaj bad xxmaj for xxmaj you ? xxbos 1 xxbos xxmaj realistic xxmaj portrait xxmaj painting xxmaj tutorial ( xxup brigitte ! ! ) xxmaj xxunk xxbos xxup vlog | xxmaj xxunk xxmaj dubai en xxunk xxunk xxbos xxmaj delhi to xxmaj manali || xxmaj best xxmaj route || xxmaj best xxmaj xxunk || xxmaj bus xxmaj xxunk xxmaj flight || xxunk xxbos xxmaj manali trip xxbos xxmaj</td>\n",
              "    </tr>\n",
              "    <tr>\n",
              "      <td>3</td>\n",
              "      <td>xxmaj how xxmaj great xxmaj thou xxmaj art xxbos xxmaj manali , xxmaj himachal pradesh xxmaj full xxmaj tour | xxmaj vlog | xxmaj what to do ? &amp; cheap xxmaj bengali hotel [ xxmaj eng xxup xxunk xxup xxunk ] xxbos xxmaj art xxmaj collage xxmaj process xxunk using xxmaj rice xxmaj paper and xxmaj magazine xxmaj cut xxmaj outs ♡ xxmaj maremi 's xxmaj small xxmaj art ♡</td>\n",
              "    </tr>\n",
              "    <tr>\n",
              "      <td>4</td>\n",
              "      <td>: xxmaj history , xxmaj xxunk and xxmaj xxunk xxbos xxmaj amazing xxmaj hand xxmaj pulled xxmaj noodles in xxmaj china | xxmaj chinese xxmaj muslim xxmaj food xxbos xxup how i xxup travel xxup for xxup free xxup as a xxup travel xxup blogger | xxup xxunk xxup xxunk xxbos xxmaj is xxmaj your xxmaj sexual xxmaj fantasy xxmaj normal ? ( xxup xxunk ) xxbos xxmaj president 's</td>\n",
              "    </tr>\n",
              "  </tbody>\n",
              "</table>"
            ],
            "text/plain": [
              "<IPython.core.display.HTML object>"
            ]
          },
          "metadata": {
            "tags": []
          }
        }
      ]
    },
    {
      "cell_type": "code",
      "metadata": {
        "id": "_HqO037-et8p",
        "colab_type": "code",
        "colab": {}
      },
      "source": [
        "learn = language_model_learner(data_lm, AWD_LSTM, drop_mult=0.3)"
      ],
      "execution_count": 188,
      "outputs": []
    },
    {
      "cell_type": "code",
      "metadata": {
        "id": "YtZeiHO5eykJ",
        "colab_type": "code",
        "colab": {
          "base_uri": "https://localhost:8080/",
          "height": 170
        },
        "outputId": "539eb567-83bc-4f13-df95-a5496c4e8e48"
      },
      "source": [
        "learn.lr_find()"
      ],
      "execution_count": 177,
      "outputs": [
        {
          "output_type": "display_data",
          "data": {
            "text/html": [
              "\n",
              "    <div>\n",
              "        <style>\n",
              "            /* Turns off some styling */\n",
              "            progress {\n",
              "                /* gets rid of default border in Firefox and Opera. */\n",
              "                border: none;\n",
              "                /* Needs to be in here for Safari polyfill so background images work as expected. */\n",
              "                background-size: auto;\n",
              "            }\n",
              "            .progress-bar-interrupted, .progress-bar-interrupted::-webkit-progress-bar {\n",
              "                background: #F44336;\n",
              "            }\n",
              "        </style>\n",
              "      <progress value='2' class='' max='3' style='width:300px; height:20px; vertical-align: middle;'></progress>\n",
              "      66.67% [2/3 00:28<00:14]\n",
              "    </div>\n",
              "    \n",
              "<table border=\"1\" class=\"dataframe\">\n",
              "  <thead>\n",
              "    <tr style=\"text-align: left;\">\n",
              "      <th>epoch</th>\n",
              "      <th>train_loss</th>\n",
              "      <th>valid_loss</th>\n",
              "      <th>accuracy</th>\n",
              "      <th>time</th>\n",
              "    </tr>\n",
              "  </thead>\n",
              "  <tbody>\n",
              "    <tr>\n",
              "      <td>0</td>\n",
              "      <td>4.689781</td>\n",
              "      <td>#na#</td>\n",
              "      <td>00:14</td>\n",
              "    </tr>\n",
              "    <tr>\n",
              "      <td>1</td>\n",
              "      <td>4.492736</td>\n",
              "      <td>#na#</td>\n",
              "      <td>00:14</td>\n",
              "    </tr>\n",
              "  </tbody>\n",
              "</table><p>\n",
              "\n",
              "    <div>\n",
              "        <style>\n",
              "            /* Turns off some styling */\n",
              "            progress {\n",
              "                /* gets rid of default border in Firefox and Opera. */\n",
              "                border: none;\n",
              "                /* Needs to be in here for Safari polyfill so background images work as expected. */\n",
              "                background-size: auto;\n",
              "            }\n",
              "            .progress-bar-interrupted, .progress-bar-interrupted::-webkit-progress-bar {\n",
              "                background: #F44336;\n",
              "            }\n",
              "        </style>\n",
              "      <progress value='5' class='' max='47' style='width:300px; height:20px; vertical-align: middle;'></progress>\n",
              "      10.64% [5/47 00:01<00:12 6.1039]\n",
              "    </div>\n",
              "    "
            ],
            "text/plain": [
              "<IPython.core.display.HTML object>"
            ]
          },
          "metadata": {
            "tags": []
          }
        },
        {
          "output_type": "stream",
          "text": [
            "LR Finder is complete, type {learner_name}.recorder.plot() to see the graph.\n"
          ],
          "name": "stdout"
        }
      ]
    },
    {
      "cell_type": "code",
      "metadata": {
        "id": "3jA-NT81e3PX",
        "colab_type": "code",
        "colab": {
          "base_uri": "https://localhost:8080/",
          "height": 279
        },
        "outputId": "23aea740-fc6e-4e2e-f39a-c3a2f68a9409"
      },
      "source": [
        "learn.recorder.plot(skip_end=20)"
      ],
      "execution_count": 178,
      "outputs": [
        {
          "output_type": "display_data",
          "data": {
            "image/png": "[encoded data removed]",
            "text/plain": [
              "<Figure size 432x288 with 1 Axes>"
            ]
          },
          "metadata": {
            "tags": [],
            "needs_background": "light"
          }
        }
      ]
    },
    {
      "cell_type": "code",
      "metadata": {
        "id": "8bFl_5dkfPTN",
        "colab_type": "code",
        "colab": {
          "base_uri": "https://localhost:8080/",
          "height": 77
        },
        "outputId": "8055f369-0ef9-4bae-8f91-e5545b675020"
      },
      "source": [
        "learn.fit_one_cycle(1, 1e-2, moms=(0.8,0.7))"
      ],
      "execution_count": 179,
      "outputs": [
        {
          "output_type": "display_data",
          "data": {
            "text/html": [
              "<table border=\"1\" class=\"dataframe\">\n",
              "  <thead>\n",
              "    <tr style=\"text-align: left;\">\n",
              "      <th>epoch</th>\n",
              "      <th>train_loss</th>\n",
              "      <th>valid_loss</th>\n",
              "      <th>accuracy</th>\n",
              "      <th>time</th>\n",
              "    </tr>\n",
              "  </thead>\n",
              "  <tbody>\n",
              "    <tr>\n",
              "      <td>0</td>\n",
              "      <td>3.508022</td>\n",
              "      <td>3.008069</td>\n",
              "      <td>0.448429</td>\n",
              "      <td>00:15</td>\n",
              "    </tr>\n",
              "  </tbody>\n",
              "</table>"
            ],
            "text/plain": [
              "<IPython.core.display.HTML object>"
            ]
          },
          "metadata": {
            "tags": []
          }
        }
      ]
    },
    {
      "cell_type": "code",
      "metadata": {
        "id": "m0jD2niMghk9",
        "colab_type": "code",
        "colab": {
          "base_uri": "https://localhost:8080/",
          "height": 343
        },
        "outputId": "4e62def3-0448-48f8-ac89-5f2c1cc73ec9"
      },
      "source": [
        "learn.fit_one_cycle(10, 1e-2, moms=(0.8,0.7))"
      ],
      "execution_count": 183,
      "outputs": [
        {
          "output_type": "display_data",
          "data": {
            "text/html": [
              "<table border=\"1\" class=\"dataframe\">\n",
              "  <thead>\n",
              "    <tr style=\"text-align: left;\">\n",
              "      <th>epoch</th>\n",
              "      <th>train_loss</th>\n",
              "      <th>valid_loss</th>\n",
              "      <th>accuracy</th>\n",
              "      <th>time</th>\n",
              "    </tr>\n",
              "  </thead>\n",
              "  <tbody>\n",
              "    <tr>\n",
              "      <td>0</td>\n",
              "      <td>1.758355</td>\n",
              "      <td>2.095502</td>\n",
              "      <td>0.247101</td>\n",
              "      <td>00:09</td>\n",
              "    </tr>\n",
              "    <tr>\n",
              "      <td>1</td>\n",
              "      <td>1.758442</td>\n",
              "      <td>1.899414</td>\n",
              "      <td>0.226583</td>\n",
              "      <td>00:09</td>\n",
              "    </tr>\n",
              "    <tr>\n",
              "      <td>2</td>\n",
              "      <td>1.757833</td>\n",
              "      <td>2.135464</td>\n",
              "      <td>0.288136</td>\n",
              "      <td>00:09</td>\n",
              "    </tr>\n",
              "    <tr>\n",
              "      <td>3</td>\n",
              "      <td>1.646793</td>\n",
              "      <td>2.713980</td>\n",
              "      <td>0.239964</td>\n",
              "      <td>00:10</td>\n",
              "    </tr>\n",
              "    <tr>\n",
              "      <td>4</td>\n",
              "      <td>1.706550</td>\n",
              "      <td>1.742574</td>\n",
              "      <td>0.349242</td>\n",
              "      <td>00:09</td>\n",
              "    </tr>\n",
              "    <tr>\n",
              "      <td>5</td>\n",
              "      <td>1.609485</td>\n",
              "      <td>1.322088</td>\n",
              "      <td>0.518287</td>\n",
              "      <td>00:10</td>\n",
              "    </tr>\n",
              "    <tr>\n",
              "      <td>6</td>\n",
              "      <td>1.625556</td>\n",
              "      <td>1.842827</td>\n",
              "      <td>0.432203</td>\n",
              "      <td>00:09</td>\n",
              "    </tr>\n",
              "    <tr>\n",
              "      <td>7</td>\n",
              "      <td>1.598972</td>\n",
              "      <td>1.518092</td>\n",
              "      <td>0.391615</td>\n",
              "      <td>00:09</td>\n",
              "    </tr>\n",
              "    <tr>\n",
              "      <td>8</td>\n",
              "      <td>1.608583</td>\n",
              "      <td>1.519263</td>\n",
              "      <td>0.485281</td>\n",
              "      <td>00:09</td>\n",
              "    </tr>\n",
              "    <tr>\n",
              "      <td>9</td>\n",
              "      <td>1.585658</td>\n",
              "      <td>1.572566</td>\n",
              "      <td>0.259590</td>\n",
              "      <td>00:09</td>\n",
              "    </tr>\n",
              "  </tbody>\n",
              "</table>"
            ],
            "text/plain": [
              "<IPython.core.display.HTML object>"
            ]
          },
          "metadata": {
            "tags": []
          }
        }
      ]
    },
    {
      "cell_type": "code",
      "metadata": {
        "id": "eWLtZTq3gtBQ",
        "colab_type": "code",
        "colab": {}
      },
      "source": [
        "TEXT = \"Trip to\"\n",
        "N_WORDS = 40\n",
        "N_SENTENCES = 2"
      ],
      "execution_count": 189,
      "outputs": []
    },
    {
      "cell_type": "code",
      "metadata": {
        "id": "e_8q789IhhpO",
        "colab_type": "code",
        "colab": {
          "base_uri": "https://localhost:8080/",
          "height": 50
        },
        "outputId": "0120828b-3891-4f46-ce5b-852af5a540a9"
      },
      "source": [
        "print(\"\\n\".join(learn.predict(TEXT, N_WORDS,temperature=0.75) for _ in range(N_SENTENCES)))"
      ],
      "execution_count": 190,
      "outputs": [
        {
          "output_type": "stream",
          "text": [
            "Trip to Hell = = \" The Bridge and the Channel \" is a documentary by British Channel 4 . It was first made on 1 November 2008 , with the British\n",
            "Trip to Mexico ( Mexican film ) = Off the West End is the first of Mexican films to be shot in Mexico in the United States . The film was shot\n"
          ],
          "name": "stdout"
        }
      ]
    },
    {
      "cell_type": "code",
      "metadata": {
        "id": "9hq-VirgktHf",
        "colab_type": "code",
        "colab": {}
      },
      "source": [
        "learn.save_encoder('fine_tuned_enc')"
      ],
      "execution_count": 191,
      "outputs": []
    },
    {
      "cell_type": "code",
      "metadata": {
        "id": "XIUQrSF1hkx7",
        "colab_type": "code",
        "colab": {
          "base_uri": "https://localhost:8080/",
          "height": 17
        },
        "outputId": "813d2d03-f72c-46f5-b2fa-c31ff2a782f5"
      },
      "source": [
        "data_clas = (TextList.from_df(df,'.', vocab=data_lm.vocab)\n",
        "             #grab all the text files in path\n",
        "             .split_by_rand_pct(0.2)\n",
        "             #split by train and valid folder (that only keeps 'train' and 'test' so no need to filter)\n",
        "             .label_from_df(cols=4)\n",
        "             #label them all with their folders\n",
        "             .databunch(bs=50))"
      ],
      "execution_count": 192,
      "outputs": [
        {
          "output_type": "display_data",
          "data": {
            "text/html": [
              ""
            ],
            "text/plain": [
              "<IPython.core.display.HTML object>"
            ]
          },
          "metadata": {
            "tags": []
          }
        },
        {
          "output_type": "display_data",
          "data": {
            "text/html": [
              ""
            ],
            "text/plain": [
              "<IPython.core.display.HTML object>"
            ]
          },
          "metadata": {
            "tags": []
          }
        }
      ]
    },
    {
      "cell_type": "code",
      "metadata": {
        "id": "IeiaSdcHiv76",
        "colab_type": "code",
        "colab": {
          "base_uri": "https://localhost:8080/",
          "height": 212
        },
        "outputId": "1dbe5b39-6c54-497d-9233-9c08102e4d1b"
      },
      "source": [
        "data_clas.show_batch()"
      ],
      "execution_count": 193,
      "outputs": [
        {
          "output_type": "display_data",
          "data": {
            "text/html": [
              "<table border=\"1\" class=\"dataframe\">\n",
              "  <thead>\n",
              "    <tr style=\"text-align: right;\">\n",
              "      <th>text</th>\n",
              "      <th>target</th>\n",
              "    </tr>\n",
              "  </thead>\n",
              "  <tbody>\n",
              "    <tr>\n",
              "      <td>xxbos xxmaj plan xxmaj your xxmaj goa xxmaj trip xxmaj under xxmaj xxunk / xxmaj visit xxmaj goa xxmaj at xxmaj very xxmaj cheap / xxmaj places xxmaj to xxmaj visit xxmaj in xxmaj goa / xxmaj travel xxmaj guide xxmaj in xxmaj goa</td>\n",
              "      <td>3</td>\n",
              "    </tr>\n",
              "    <tr>\n",
              "      <td>xxbos xxup careers xxup in xxup ba xxup drawing &amp; xxup painting – xxup ma , xxmaj paint , xxmaj artist , xxmaj animation xxmaj industry , xxmaj art xxmaj teacher , xxmaj art xxmaj schools , xxmaj jobs</td>\n",
              "      <td>5</td>\n",
              "    </tr>\n",
              "    <tr>\n",
              "      <td>xxbos xxmaj midnight xxmaj club xxup ii xxmaj xxunk xxup hd xxup eng / xxup xxunk part 4 - xxmaj paris vol . 1 - xxmaj blog xxmaj xxunk &amp; xxmaj julie xxmaj xxunk % xxmaj game )</td>\n",
              "      <td>3</td>\n",
              "    </tr>\n",
              "    <tr>\n",
              "      <td>xxbos xxup daily xxup vlog xxup ep : 45 - xxup girl xxup ’s xxup day xxup out xxup with xxup xxunk xxup paris + xxup di xxup xxunk xxup xxunk xxup instagram || xxmaj xxunk xxmaj hunter</td>\n",
              "      <td>3</td>\n",
              "    </tr>\n",
              "    <tr>\n",
              "      <td>xxbos xxmaj the xxup ultimate xxmaj chinese xxmaj noodle xxmaj tour - 5 xxup cities ! ! ! xxmaj beijing , xxmaj shanghai , xxmaj hong xxmaj kong , xxmaj chengdu + xxup more ! ! !</td>\n",
              "      <td>0</td>\n",
              "    </tr>\n",
              "  </tbody>\n",
              "</table>"
            ],
            "text/plain": [
              "<IPython.core.display.HTML object>"
            ]
          },
          "metadata": {
            "tags": []
          }
        }
      ]
    },
    {
      "cell_type": "code",
      "metadata": {
        "id": "86C17ExSjxv-",
        "colab_type": "code",
        "colab": {
          "base_uri": "https://localhost:8080/",
          "height": 1000
        },
        "outputId": "fab134cd-89ea-49fd-f17d-3c688f8789f1"
      },
      "source": [
        "learn = text_classifier_learner(data_clas, AWD_LSTM, drop_mult=0.5)\n",
        "learn.load_encoder('fine_tuned_enc')"
      ],
      "execution_count": 194,
      "outputs": [
        {
          "output_type": "execute_result",
          "data": {
            "text/plain": [
              "RNNLearner(data=TextClasDataBunch;\n",
              "\n",
              "Train: LabelList (8969 items)\n",
              "x: TextList\n",
              "xxbos xxmaj weekend in xxmaj north xxmaj goa xxunk xxup goa xxup travel xxup vlog | xxmaj kritika xxmaj xxunk,xxbos 1,xxbos xxmaj common - xxmaj the xxmaj food,xxbos xxmaj wayanad xxmaj xxunk 2018 - xxunk xxunk 2018,xxbos xxmaj what xxmaj if xxmaj you xxmaj only xxmaj xxunk xxmaj soda ?\n",
              "y: CategoryList\n",
              "3,1,0,3,4\n",
              "Path: .;\n",
              "\n",
              "Valid: LabelList (2242 items)\n",
              "x: TextList\n",
              "xxbos xxmaj road xxmaj trip to xxmaj rajasthan with family , xxmaj mount xxmaj abu , xxmaj jodhpur , xxmaj jaipur , xxmaj chittorgarh , xxmaj udaipur,xxbos xxmaj should xxmaj we xxmaj xxunk xxmaj xxunk xxmaj for xxmaj science ?,xxbos xxmaj the xxmaj end xxmaj of xxmaj the xxmaj arctic,xxbos xxmaj scientists ' xxmaj crazy xxmaj plan xxmaj to xxmaj xxunk xxmaj the xxmaj arctic,xxbos xxmaj the xxunk xxunk is back - xxmaj acrylic pour painting for beginners\n",
              "y: CategoryList\n",
              "3,4,4,4,5\n",
              "Path: .;\n",
              "\n",
              "Test: None, model=SequentialRNN(\n",
              "  (0): MultiBatchEncoder(\n",
              "    (module): AWD_LSTM(\n",
              "      (encoder): Embedding(3440, 400, padding_idx=1)\n",
              "      (encoder_dp): EmbeddingDropout(\n",
              "        (emb): Embedding(3440, 400, padding_idx=1)\n",
              "      )\n",
              "      (rnns): ModuleList(\n",
              "        (0): WeightDropout(\n",
              "          (module): LSTM(400, 1152, batch_first=True)\n",
              "        )\n",
              "        (1): WeightDropout(\n",
              "          (module): LSTM(1152, 1152, batch_first=True)\n",
              "        )\n",
              "        (2): WeightDropout(\n",
              "          (module): LSTM(1152, 400, batch_first=True)\n",
              "        )\n",
              "      )\n",
              "      (input_dp): RNNDropout()\n",
              "      (hidden_dps): ModuleList(\n",
              "        (0): RNNDropout()\n",
              "        (1): RNNDropout()\n",
              "        (2): RNNDropout()\n",
              "      )\n",
              "    )\n",
              "  )\n",
              "  (1): PoolingLinearClassifier(\n",
              "    (layers): Sequential(\n",
              "      (0): BatchNorm1d(1200, eps=1e-05, momentum=0.1, affine=True, track_running_stats=True)\n",
              "      (1): Dropout(p=0.2, inplace=False)\n",
              "      (2): Linear(in_features=1200, out_features=50, bias=True)\n",
              "      (3): ReLU(inplace=True)\n",
              "      (4): BatchNorm1d(50, eps=1e-05, momentum=0.1, affine=True, track_running_stats=True)\n",
              "      (5): Dropout(p=0.1, inplace=False)\n",
              "      (6): Linear(in_features=50, out_features=6, bias=True)\n",
              "    )\n",
              "  )\n",
              "), opt_func=functools.partial(<class 'torch.optim.adam.Adam'>, betas=(0.9, 0.99)), loss_func=FlattenedLoss of CrossEntropyLoss(), metrics=[<function accuracy at 0x7fe8bd8832f0>], true_wd=True, bn_wd=True, wd=0.01, train_bn=True, path=PosixPath('.'), model_dir='models', callback_fns=[functools.partial(<class 'fastai.basic_train.Recorder'>, add_time=True, silent=False)], callbacks=[RNNTrainer\n",
              "learn: RNNLearner(data=TextClasDataBunch;\n",
              "\n",
              "Train: LabelList (8969 items)\n",
              "x: TextList\n",
              "xxbos xxmaj weekend in xxmaj north xxmaj goa xxunk xxup goa xxup travel xxup vlog | xxmaj kritika xxmaj xxunk,xxbos 1,xxbos xxmaj common - xxmaj the xxmaj food,xxbos xxmaj wayanad xxmaj xxunk 2018 - xxunk xxunk 2018,xxbos xxmaj what xxmaj if xxmaj you xxmaj only xxmaj xxunk xxmaj soda ?\n",
              "y: CategoryList\n",
              "3,1,0,3,4\n",
              "Path: .;\n",
              "\n",
              "Valid: LabelList (2242 items)\n",
              "x: TextList\n",
              "xxbos xxmaj road xxmaj trip to xxmaj rajasthan with family , xxmaj mount xxmaj abu , xxmaj jodhpur , xxmaj jaipur , xxmaj chittorgarh , xxmaj udaipur,xxbos xxmaj should xxmaj we xxmaj xxunk xxmaj xxunk xxmaj for xxmaj science ?,xxbos xxmaj the xxmaj end xxmaj of xxmaj the xxmaj arctic,xxbos xxmaj scientists ' xxmaj crazy xxmaj plan xxmaj to xxmaj xxunk xxmaj the xxmaj arctic,xxbos xxmaj the xxunk xxunk is back - xxmaj acrylic pour painting for beginners\n",
              "y: CategoryList\n",
              "3,4,4,4,5\n",
              "Path: .;\n",
              "\n",
              "Test: None, model=SequentialRNN(\n",
              "  (0): MultiBatchEncoder(\n",
              "    (module): AWD_LSTM(\n",
              "      (encoder): Embedding(3440, 400, padding_idx=1)\n",
              "      (encoder_dp): EmbeddingDropout(\n",
              "        (emb): Embedding(3440, 400, padding_idx=1)\n",
              "      )\n",
              "      (rnns): ModuleList(\n",
              "        (0): WeightDropout(\n",
              "          (module): LSTM(400, 1152, batch_first=True)\n",
              "        )\n",
              "        (1): WeightDropout(\n",
              "          (module): LSTM(1152, 1152, batch_first=True)\n",
              "        )\n",
              "        (2): WeightDropout(\n",
              "          (module): LSTM(1152, 400, batch_first=True)\n",
              "        )\n",
              "      )\n",
              "      (input_dp): RNNDropout()\n",
              "      (hidden_dps): ModuleList(\n",
              "        (0): RNNDropout()\n",
              "        (1): RNNDropout()\n",
              "        (2): RNNDropout()\n",
              "      )\n",
              "    )\n",
              "  )\n",
              "  (1): PoolingLinearClassifier(\n",
              "    (layers): Sequential(\n",
              "      (0): BatchNorm1d(1200, eps=1e-05, momentum=0.1, affine=True, track_running_stats=True)\n",
              "      (1): Dropout(p=0.2, inplace=False)\n",
              "      (2): Linear(in_features=1200, out_features=50, bias=True)\n",
              "      (3): ReLU(inplace=True)\n",
              "      (4): BatchNorm1d(50, eps=1e-05, momentum=0.1, affine=True, track_running_stats=True)\n",
              "      (5): Dropout(p=0.1, inplace=False)\n",
              "      (6): Linear(in_features=50, out_features=6, bias=True)\n",
              "    )\n",
              "  )\n",
              "), opt_func=functools.partial(<class 'torch.optim.adam.Adam'>, betas=(0.9, 0.99)), loss_func=FlattenedLoss of CrossEntropyLoss(), metrics=[<function accuracy at 0x7fe8bd8832f0>], true_wd=True, bn_wd=True, wd=0.01, train_bn=True, path=PosixPath('.'), model_dir='models', callback_fns=[functools.partial(<class 'fastai.basic_train.Recorder'>, add_time=True, silent=False)], callbacks=[...], layer_groups=[Sequential(\n",
              "  (0): Embedding(3440, 400, padding_idx=1)\n",
              "  (1): EmbeddingDropout(\n",
              "    (emb): Embedding(3440, 400, padding_idx=1)\n",
              "  )\n",
              "), Sequential(\n",
              "  (0): WeightDropout(\n",
              "    (module): LSTM(400, 1152, batch_first=True)\n",
              "  )\n",
              "  (1): RNNDropout()\n",
              "), Sequential(\n",
              "  (0): WeightDropout(\n",
              "    (module): LSTM(1152, 1152, batch_first=True)\n",
              "  )\n",
              "  (1): RNNDropout()\n",
              "), Sequential(\n",
              "  (0): WeightDropout(\n",
              "    (module): LSTM(1152, 400, batch_first=True)\n",
              "  )\n",
              "  (1): RNNDropout()\n",
              "), Sequential(\n",
              "  (0): PoolingLinearClassifier(\n",
              "    (layers): Sequential(\n",
              "      (0): BatchNorm1d(1200, eps=1e-05, momentum=0.1, affine=True, track_running_stats=True)\n",
              "      (1): Dropout(p=0.2, inplace=False)\n",
              "      (2): Linear(in_features=1200, out_features=50, bias=True)\n",
              "      (3): ReLU(inplace=True)\n",
              "      (4): BatchNorm1d(50, eps=1e-05, momentum=0.1, affine=True, track_running_stats=True)\n",
              "      (5): Dropout(p=0.1, inplace=False)\n",
              "      (6): Linear(in_features=50, out_features=6, bias=True)\n",
              "    )\n",
              "  )\n",
              ")], add_time=True, silent=False)\n",
              "alpha: 2.0\n",
              "beta: 1.0], layer_groups=[Sequential(\n",
              "  (0): Embedding(3440, 400, padding_idx=1)\n",
              "  (1): EmbeddingDropout(\n",
              "    (emb): Embedding(3440, 400, padding_idx=1)\n",
              "  )\n",
              "), Sequential(\n",
              "  (0): WeightDropout(\n",
              "    (module): LSTM(400, 1152, batch_first=True)\n",
              "  )\n",
              "  (1): RNNDropout()\n",
              "), Sequential(\n",
              "  (0): WeightDropout(\n",
              "    (module): LSTM(1152, 1152, batch_first=True)\n",
              "  )\n",
              "  (1): RNNDropout()\n",
              "), Sequential(\n",
              "  (0): WeightDropout(\n",
              "    (module): LSTM(1152, 400, batch_first=True)\n",
              "  )\n",
              "  (1): RNNDropout()\n",
              "), Sequential(\n",
              "  (0): PoolingLinearClassifier(\n",
              "    (layers): Sequential(\n",
              "      (0): BatchNorm1d(1200, eps=1e-05, momentum=0.1, affine=True, track_running_stats=True)\n",
              "      (1): Dropout(p=0.2, inplace=False)\n",
              "      (2): Linear(in_features=1200, out_features=50, bias=True)\n",
              "      (3): ReLU(inplace=True)\n",
              "      (4): BatchNorm1d(50, eps=1e-05, momentum=0.1, affine=True, track_running_stats=True)\n",
              "      (5): Dropout(p=0.1, inplace=False)\n",
              "      (6): Linear(in_features=50, out_features=6, bias=True)\n",
              "    )\n",
              "  )\n",
              ")], add_time=True, silent=False)"
            ]
          },
          "metadata": {
            "tags": []
          },
          "execution_count": 194
        }
      ]
    },
    {
      "cell_type": "code",
      "metadata": {
        "id": "3BKY5EBVj2YT",
        "colab_type": "code",
        "colab": {
          "base_uri": "https://localhost:8080/",
          "height": 110
        },
        "outputId": "0fe8ae47-df14-42f8-c3ff-4fdb7e33e7a9"
      },
      "source": [
        "learn.lr_find()"
      ],
      "execution_count": 195,
      "outputs": [
        {
          "output_type": "display_data",
          "data": {
            "text/html": [
              "\n",
              "    <div>\n",
              "        <style>\n",
              "            /* Turns off some styling */\n",
              "            progress {\n",
              "                /* gets rid of default border in Firefox and Opera. */\n",
              "                border: none;\n",
              "                /* Needs to be in here for Safari polyfill so background images work as expected. */\n",
              "                background-size: auto;\n",
              "            }\n",
              "            .progress-bar-interrupted, .progress-bar-interrupted::-webkit-progress-bar {\n",
              "                background: #F44336;\n",
              "            }\n",
              "        </style>\n",
              "      <progress value='0' class='' max='1' style='width:300px; height:20px; vertical-align: middle;'></progress>\n",
              "      0.00% [0/1 00:00<00:00]\n",
              "    </div>\n",
              "    \n",
              "<table border=\"1\" class=\"dataframe\">\n",
              "  <thead>\n",
              "    <tr style=\"text-align: left;\">\n",
              "      <th>epoch</th>\n",
              "      <th>train_loss</th>\n",
              "      <th>valid_loss</th>\n",
              "      <th>accuracy</th>\n",
              "      <th>time</th>\n",
              "    </tr>\n",
              "  </thead>\n",
              "  <tbody>\n",
              "  </tbody>\n",
              "</table><p>\n",
              "\n",
              "    <div>\n",
              "        <style>\n",
              "            /* Turns off some styling */\n",
              "            progress {\n",
              "                /* gets rid of default border in Firefox and Opera. */\n",
              "                border: none;\n",
              "                /* Needs to be in here for Safari polyfill so background images work as expected. */\n",
              "                background-size: auto;\n",
              "            }\n",
              "            .progress-bar-interrupted, .progress-bar-interrupted::-webkit-progress-bar {\n",
              "                background: #F44336;\n",
              "            }\n",
              "        </style>\n",
              "      <progress value='92' class='' max='179' style='width:300px; height:20px; vertical-align: middle;'></progress>\n",
              "      51.40% [92/179 00:04<00:04 2.1852]\n",
              "    </div>\n",
              "    "
            ],
            "text/plain": [
              "<IPython.core.display.HTML object>"
            ]
          },
          "metadata": {
            "tags": []
          }
        },
        {
          "output_type": "stream",
          "text": [
            "LR Finder is complete, type {learner_name}.recorder.plot() to see the graph.\n"
          ],
          "name": "stdout"
        }
      ]
    },
    {
      "cell_type": "code",
      "metadata": {
        "id": "QebsL6YRj7_Y",
        "colab_type": "code",
        "colab": {
          "base_uri": "https://localhost:8080/",
          "height": 279
        },
        "outputId": "beb6d77b-cf6f-410e-9579-2b13dae67c74"
      },
      "source": [
        "learn.recorder.plot()"
      ],
      "execution_count": 196,
      "outputs": [
        {
          "output_type": "display_data",
          "data": {
            "image/png": "[encoded data removed]",
            "text/plain": [
              "<Figure size 432x288 with 1 Axes>"
            ]
          },
          "metadata": {
            "tags": [],
            "needs_background": "light"
          }
        }
      ]
    },
    {
      "cell_type": "code",
      "metadata": {
        "id": "s_N1uLklkBuB",
        "colab_type": "code",
        "colab": {
          "base_uri": "https://localhost:8080/",
          "height": 77
        },
        "outputId": "40d9cef4-3efd-435b-cab8-46ebeece651f"
      },
      "source": [
        "learn.fit_one_cycle(1, 1e-2, moms=(0.8,0.7))"
      ],
      "execution_count": 201,
      "outputs": [
        {
          "output_type": "display_data",
          "data": {
            "text/html": [
              "<table border=\"1\" class=\"dataframe\">\n",
              "  <thead>\n",
              "    <tr style=\"text-align: left;\">\n",
              "      <th>epoch</th>\n",
              "      <th>train_loss</th>\n",
              "      <th>valid_loss</th>\n",
              "      <th>accuracy</th>\n",
              "      <th>time</th>\n",
              "    </tr>\n",
              "  </thead>\n",
              "  <tbody>\n",
              "    <tr>\n",
              "      <td>0</td>\n",
              "      <td>0.710193</td>\n",
              "      <td>0.308855</td>\n",
              "      <td>0.901873</td>\n",
              "      <td>00:10</td>\n",
              "    </tr>\n",
              "  </tbody>\n",
              "</table>"
            ],
            "text/plain": [
              "<IPython.core.display.HTML object>"
            ]
          },
          "metadata": {
            "tags": []
          }
        }
      ]
    },
    {
      "cell_type": "code",
      "metadata": {
        "id": "plT7toBCkM0m",
        "colab_type": "code",
        "colab": {
          "base_uri": "https://localhost:8080/",
          "height": 77
        },
        "outputId": "cffd9ae7-e7ae-485d-cbbc-6bd41358445d"
      },
      "source": [
        "learn.fit_one_cycle(1, slice(1e-2/(2.6**4),1e-2), moms=(0.8,0.7))"
      ],
      "execution_count": 198,
      "outputs": [
        {
          "output_type": "display_data",
          "data": {
            "text/html": [
              "<table border=\"1\" class=\"dataframe\">\n",
              "  <thead>\n",
              "    <tr style=\"text-align: left;\">\n",
              "      <th>epoch</th>\n",
              "      <th>train_loss</th>\n",
              "      <th>valid_loss</th>\n",
              "      <th>accuracy</th>\n",
              "      <th>time</th>\n",
              "    </tr>\n",
              "  </thead>\n",
              "  <tbody>\n",
              "    <tr>\n",
              "      <td>0</td>\n",
              "      <td>0.844588</td>\n",
              "      <td>0.355571</td>\n",
              "      <td>0.897859</td>\n",
              "      <td>00:09</td>\n",
              "    </tr>\n",
              "  </tbody>\n",
              "</table>"
            ],
            "text/plain": [
              "<IPython.core.display.HTML object>"
            ]
          },
          "metadata": {
            "tags": []
          }
        }
      ]
    },
    {
      "cell_type": "code",
      "metadata": {
        "id": "GRxogHXEkgL-",
        "colab_type": "code",
        "colab": {
          "base_uri": "https://localhost:8080/",
          "height": 77
        },
        "outputId": "ef696450-e5de-46c9-be88-ae517de27764"
      },
      "source": [
        "learn.freeze_to(-3)\n",
        "learn.fit_one_cycle(1, slice(5e-3/(2.6**4),5e-3), moms=(0.8,0.7))"
      ],
      "execution_count": 202,
      "outputs": [
        {
          "output_type": "display_data",
          "data": {
            "text/html": [
              "<table border=\"1\" class=\"dataframe\">\n",
              "  <thead>\n",
              "    <tr style=\"text-align: left;\">\n",
              "      <th>epoch</th>\n",
              "      <th>train_loss</th>\n",
              "      <th>valid_loss</th>\n",
              "      <th>accuracy</th>\n",
              "      <th>time</th>\n",
              "    </tr>\n",
              "  </thead>\n",
              "  <tbody>\n",
              "    <tr>\n",
              "      <td>0</td>\n",
              "      <td>0.459323</td>\n",
              "      <td>0.198852</td>\n",
              "      <td>0.939340</td>\n",
              "      <td>00:17</td>\n",
              "    </tr>\n",
              "  </tbody>\n",
              "</table>"
            ],
            "text/plain": [
              "<IPython.core.display.HTML object>"
            ]
          },
          "metadata": {
            "tags": []
          }
        }
      ]
    },
    {
      "cell_type": "code",
      "metadata": {
        "id": "Cpu68unDoKPk",
        "colab_type": "code",
        "colab": {}
      },
      "source": [
        ""
      ],
      "execution_count": null,
      "outputs": []
    }
  ]
}