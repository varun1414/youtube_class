{
  "nbformat": 4,
  "nbformat_minor": 0,
  "metadata": {
    "kernelspec": {
      "display_name": "Python 3",
      "language": "python",
      "name": "python3"
    },
    "language_info": {
      "codemirror_mode": {
        "name": "ipython",
        "version": 3
      },
      "file_extension": ".py",
      "mimetype": "text/x-python",
      "name": "python",
      "nbconvert_exporter": "python",
      "pygments_lexer": "ipython3",
      "version": "3.7.3"
    },
    "colab": {
      "name": "classifier.ipynb",
      "provenance": [],
      "collapsed_sections": [],
      "include_colab_link": true
    },
    "accelerator": "GPU"
  },
  "cells": [
    {
      "cell_type": "markdown",
      "metadata": {
        "id": "view-in-github",
        "colab_type": "text"
      },
      "source": [
        "<a href=\"https://colab.research.google.com/github/varun1414/youtube_class/blob/master/classifier.ipynb\" target=\"_parent\"><img src=\"https://colab.research.google.com/assets/colab-badge.svg\" alt=\"Open In Colab\"/></a>"
      ]
    },
    {
      "cell_type": "code",
      "metadata": {
        "id": "nc6nyHROJQFU",
        "colab_type": "code",
        "colab": {}
      },
      "source": [
        "from fastai import *"
      ],
      "execution_count": 3,
      "outputs": []
    },
    {
      "cell_type": "code",
      "metadata": {
        "id": "aTJCZq0VJzFe",
        "colab_type": "code",
        "colab": {}
      },
      "source": [
        "import pandas as pd\n"
      ],
      "execution_count": 4,
      "outputs": []
    },
    {
      "cell_type": "code",
      "metadata": {
        "id": "IZXtIKz_J2wN",
        "colab_type": "code",
        "colab": {
          "base_uri": "https://localhost:8080/",
          "height": 402
        },
        "outputId": "3df7055a-dca5-4a26-b976-72411d76e5b6"
      },
      "source": [
        "df=pd.read_csv('./sample_data/Youtube Video Dataset.csv')\n",
        "df"
      ],
      "execution_count": 14,
      "outputs": [
        {
          "output_type": "execute_result",
          "data": {
            "text/html": [
              "<div>\n",
              "<style scoped>\n",
              "    .dataframe tbody tr th:only-of-type {\n",
              "        vertical-align: middle;\n",
              "    }\n",
              "\n",
              "    .dataframe tbody tr th {\n",
              "        vertical-align: top;\n",
              "    }\n",
              "\n",
              "    .dataframe thead th {\n",
              "        text-align: right;\n",
              "    }\n",
              "</style>\n",
              "<table border=\"1\" class=\"dataframe\">\n",
              "  <thead>\n",
              "    <tr style=\"text-align: right;\">\n",
              "      <th></th>\n",
              "      <th>Title</th>\n",
              "      <th>Videourl</th>\n",
              "      <th>Category</th>\n",
              "      <th>Description</th>\n",
              "    </tr>\n",
              "  </thead>\n",
              "  <tbody>\n",
              "    <tr>\n",
              "      <th>0</th>\n",
              "      <td>Madagascar Street Food!!! Super RARE Malagasy ...</td>\n",
              "      <td>/watch?v=EwBA1fOQ96c</td>\n",
              "      <td>Food</td>\n",
              "      <td>🎥GIANT ALIEN SNAIL IN JAPAN! » https://youtu.b...</td>\n",
              "    </tr>\n",
              "    <tr>\n",
              "      <th>1</th>\n",
              "      <td>42 Foods You Need To Eat Before You Die</td>\n",
              "      <td>/watch?v=0SPwwpruGIA</td>\n",
              "      <td>Food</td>\n",
              "      <td>This is the ultimate must-try food bucket list...</td>\n",
              "    </tr>\n",
              "    <tr>\n",
              "      <th>2</th>\n",
              "      <td>Gordon Ramsay’s Top 5 Indian Dishes</td>\n",
              "      <td>/watch?v=upfu5nQB2ks</td>\n",
              "      <td>Food</td>\n",
              "      <td>We found 5 of the best and most interesting In...</td>\n",
              "    </tr>\n",
              "    <tr>\n",
              "      <th>3</th>\n",
              "      <td>How To Use Chopsticks - In About A Minute 🍜</td>\n",
              "      <td>/watch?v=xFRzzSF_6gk</td>\n",
              "      <td>Food</td>\n",
              "      <td>You're most likely sitting in a restaurant wit...</td>\n",
              "    </tr>\n",
              "    <tr>\n",
              "      <th>4</th>\n",
              "      <td>Trying Indian Food 1st Time!</td>\n",
              "      <td>/watch?v=K79bXtaRwcM</td>\n",
              "      <td>Food</td>\n",
              "      <td>HELP SUPPORT SINSTV!! Shop Our Sponsors!\\nLast...</td>\n",
              "    </tr>\n",
              "    <tr>\n",
              "      <th>...</th>\n",
              "      <td>...</td>\n",
              "      <td>...</td>\n",
              "      <td>...</td>\n",
              "      <td>...</td>\n",
              "    </tr>\n",
              "    <tr>\n",
              "      <th>11206</th>\n",
              "      <td>art journal | shimmer sprays, stencils, collag...</td>\n",
              "      <td>/watch?v=mJBOQr_-8_Y</td>\n",
              "      <td>Art&amp;Music</td>\n",
              "      <td>Step by step video on creating an art journal ...</td>\n",
              "    </tr>\n",
              "    <tr>\n",
              "      <th>11207</th>\n",
              "      <td>Ar-Tea Collage * Mixed Media Art</td>\n",
              "      <td>/watch?v=GOihUhnZxtw</td>\n",
              "      <td>Art&amp;Music</td>\n",
              "      <td>By: Ilene McInnes,\\nMixed media Art and inspir...</td>\n",
              "    </tr>\n",
              "    <tr>\n",
              "      <th>11208</th>\n",
              "      <td>DIY Mixed Media Art Collage Greeting Cards / M...</td>\n",
              "      <td>/watch?v=BchUtLfjews</td>\n",
              "      <td>Art&amp;Music</td>\n",
              "      <td>Make your own Mixed Media Greeting Cards\\n\\nHe...</td>\n",
              "    </tr>\n",
              "    <tr>\n",
              "      <th>11209</th>\n",
              "      <td>Art Collage Process DecoJournal using Rice Pap...</td>\n",
              "      <td>/watch?v=FlQ_j-cflQc</td>\n",
              "      <td>Art&amp;Music</td>\n",
              "      <td>Art Collage Process DecoJournal using Rice Pap...</td>\n",
              "    </tr>\n",
              "    <tr>\n",
              "      <th>11210</th>\n",
              "      <td>Journal Collage Process using Magazine Cut Out...</td>\n",
              "      <td>/watch?v=OakWQvYMP4w</td>\n",
              "      <td>Art&amp;Music</td>\n",
              "      <td>Using magazine, scrapbook paper, recycled old ...</td>\n",
              "    </tr>\n",
              "  </tbody>\n",
              "</table>\n",
              "<p>11211 rows × 4 columns</p>\n",
              "</div>"
            ],
            "text/plain": [
              "                                                   Title  ...                                        Description\n",
              "0      Madagascar Street Food!!! Super RARE Malagasy ...  ...  🎥GIANT ALIEN SNAIL IN JAPAN! » https://youtu.b...\n",
              "1                42 Foods You Need To Eat Before You Die  ...  This is the ultimate must-try food bucket list...\n",
              "2                    Gordon Ramsay’s Top 5 Indian Dishes  ...  We found 5 of the best and most interesting In...\n",
              "3            How To Use Chopsticks - In About A Minute 🍜  ...  You're most likely sitting in a restaurant wit...\n",
              "4                           Trying Indian Food 1st Time!  ...  HELP SUPPORT SINSTV!! Shop Our Sponsors!\\nLast...\n",
              "...                                                  ...  ...                                                ...\n",
              "11206  art journal | shimmer sprays, stencils, collag...  ...  Step by step video on creating an art journal ...\n",
              "11207                   Ar-Tea Collage * Mixed Media Art  ...  By: Ilene McInnes,\\nMixed media Art and inspir...\n",
              "11208  DIY Mixed Media Art Collage Greeting Cards / M...  ...  Make your own Mixed Media Greeting Cards\\n\\nHe...\n",
              "11209  Art Collage Process DecoJournal using Rice Pap...  ...  Art Collage Process DecoJournal using Rice Pap...\n",
              "11210  Journal Collage Process using Magazine Cut Out...  ...  Using magazine, scrapbook paper, recycled old ...\n",
              "\n",
              "[11211 rows x 4 columns]"
            ]
          },
          "metadata": {
            "tags": []
          },
          "execution_count": 14
        }
      ]
    },
    {
      "cell_type": "code",
      "metadata": {
        "id": "WrGdbXznMJjR",
        "colab_type": "code",
        "colab": {
          "base_uri": "https://localhost:8080/",
          "height": 50
        },
        "outputId": "3ef58578-6a76-4f5d-c67c-46d2b217ce23"
      },
      "source": [
        "df['Category'].unique()"
      ],
      "execution_count": 17,
      "outputs": [
        {
          "output_type": "execute_result",
          "data": {
            "text/plain": [
              "array(['Food', 'manufacturing', 'History', 'travel blog',\n",
              "       'Science&Technology', 'Art&Music'], dtype=object)"
            ]
          },
          "metadata": {
            "tags": []
          },
          "execution_count": 17
        }
      ]
    },
    {
      "cell_type": "code",
      "metadata": {
        "id": "p6NpMLjfMJdi",
        "colab_type": "code",
        "colab": {}
      },
      "source": [
        "df['labels']=df.Category.apply(lambda x: if )"
      ],
      "execution_count": null,
      "outputs": []
    },
    {
      "cell_type": "code",
      "metadata": {
        "id": "yD4DJdCGLijw",
        "colab_type": "code",
        "colab": {
          "base_uri": "https://localhost:8080/",
          "height": 252
        },
        "outputId": "e98a7b25-fce6-4d91-df09-abefb3c12f1c"
      },
      "source": [
        ""
      ],
      "execution_count": 13,
      "outputs": [
        {
          "output_type": "stream",
          "text": [
            "      7  0  0.1  0.2  0.3  0.4  ...  0.662  0.663  0.664  0.665  0.666  0.667\n",
            "0     2  0    0    0    0    0  ...      0      0      0      0      0      0\n",
            "1     1  0    0    0    0    0  ...      0      0      0      0      0      0\n",
            "2     0  0    0    0    0    0  ...      0      0      0      0      0      0\n",
            "3     4  0    0    0    0    0  ...      0      0      0      0      0      0\n",
            "4     1  0    0    0    0    0  ...      0      0      0      0      0      0\n",
            "...  .. ..  ...  ...  ...  ...  ...    ...    ...    ...    ...    ...    ...\n",
            "9994  2  0    0    0    0    0  ...      0      0      0      0      0      0\n",
            "9995  3  0    0    0    0    0  ...      0      0      0      0      0      0\n",
            "9996  4  0    0    0    0    0  ...      0      0      0      0      0      0\n",
            "9997  5  0    0    0    0    0  ...      0      0      0      0      0      0\n",
            "9998  6  0    0    0    0    0  ...      0      0      0      0      0      0\n",
            "\n",
            "[9999 rows x 785 columns]\n"
          ],
          "name": "stdout"
        }
      ]
    },
    {
      "cell_type": "code",
      "metadata": {
        "id": "5TNlPnfALlou",
        "colab_type": "code",
        "colab": {}
      },
      "source": [
        ""
      ],
      "execution_count": null,
      "outputs": []
    },
    {
      "cell_type": "markdown",
      "metadata": {
        "id": "YWmBuUBSJRwR",
        "colab_type": "text"
      },
      "source": [
        "# New Section"
      ]
    },
    {
      "cell_type": "code",
      "metadata": {
        "id": "6fmPBzszJQFa",
        "colab_type": "code",
        "colab": {},
        "outputId": "4617fa26-2051-4964-df24-77d7d89c27cf"
      },
      "source": [
        "tr='https://amzn.to/2r67r1z hello hi https://youtu.be/5jcgwu-gvm4'\n",
        "stsr='#hi yo\\\n",
        "      #kok #bye team.befrs@gmail.com'\n",
        "pat=r'[a-zA-Z0-9+_.]+[a-z0-9]+@[a-z0-9A-Z]+\\.[com]*[net]*'\n",
        "cat=r'#[\\w]+'\n",
        "sat=r'[http|ftp|https:]+\\/\\/+[\\w\\-_]+\\.[\\w\\-_]+[\\w\\-\\.,@?^=%&amp;:/~\\+#]*[\\w\\-\\@?^=%&amp;/~\\+#]+'\n",
        "m=re.findall(sat,tr)\n",
        "tr=tr.split()\n",
        "tr\n",
        "# pat=r\"[a-zA-Z0-9_.+-]+@[a-zA-Z0-9-]+\\.[a-zA-Z0-9-.]+\"\n",
        "# \n",
        "temp=[e for e in tr if e in m ]\n",
        "print(m)"
      ],
      "execution_count": null,
      "outputs": [
        {
          "output_type": "stream",
          "text": [
            "['https://amzn.to/2r67r1z', 'https://youtu.be/5jcgwu-gvm4']\n"
          ],
          "name": "stdout"
        }
      ]
    },
    {
      "cell_type": "code",
      "metadata": {
        "id": "GPZxY789JQFe",
        "colab_type": "code",
        "colab": {}
      },
      "source": [
        ""
      ],
      "execution_count": null,
      "outputs": []
    }
  ]
}