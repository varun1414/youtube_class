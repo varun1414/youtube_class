{
 "cells": [
  {
   "cell_type": "code",
   "execution_count": 108,
   "metadata": {},
   "outputs": [
    {
     "name": "stderr",
     "output_type": "stream",
     "text": [
      "[nltk_data] Downloading package stopwords to\n",
      "[nltk_data]     C:\\Users\\HP\\AppData\\Roaming\\nltk_data...\n",
      "[nltk_data]   Package stopwords is already up-to-date!\n"
     ]
    },
    {
     "data": {
      "text/plain": [
       "True"
      ]
     },
     "execution_count": 108,
     "metadata": {},
     "output_type": "execute_result"
    }
   ],
   "source": [
    "import seaborn as sns\n",
    "import pandas as pd\n",
    "import matplotlib.pyplot as py\n",
    "from nltk.corpus import stopwords\n",
    "from nltk.tokenize import word_tokenize\n",
    "import nltk\n",
    "import re\n",
    "nltk.download('stopwords')"
   ]
  },
  {
   "cell_type": "code",
   "execution_count": 109,
   "metadata": {},
   "outputs": [
    {
     "name": "stdout",
     "output_type": "stream",
     "text": [
      "True\n"
     ]
    }
   ],
   "source": [
    "stop_words = set(stopwords.words('english'))\n",
    "df=pd.read_csv(\"Youtube Video Dataset.csv\")\n",
    "# df[\"Description\"][0]\n",
    "# print(stop_words)\n",
    "stop_words=list(stop_words)\n",
    "print('in' in stop_words)"
   ]
  },
  {
   "cell_type": "code",
   "execution_count": 136,
   "metadata": {},
   "outputs": [
    {
     "name": "stdout",
     "output_type": "stream",
     "text": [
      "['🎥giant', 'alien', 'snail', 'japan!', '»', 'https://youtu.be/5jcgwu-gvm4', '🇲🇬go', 'tour', 'madagascar!', '»', 'http://bit.ly/ramartour', '👕get', 'best', 'ever', 'merch!', '»', 'http://bit.ly/befrsmerch', '💗support', 'mission', '»', 'http://bit.ly/besteverpatreon', '🛵learn', 'onetrip’s', 'vietnam', 'tours', '»', 'http://bit.ly/befrsonetrip', 'special', 'thanks', 'joel', 'ramartour', 'madagascar', 'helping', 'us', 'capture', 'undiscovered', 'parts', 'madagascar.', 'go', 'tour', 'madagascar', 'ramartour:', 'http://bit.ly/ramartour', 'follow', 'instagram', 'madagascar', 'info:', '@ramartour_madagascar', '-', '-', '-', '-', '-', '-', '-', '-', '-', '-', '-', '-', '-', '-', '-', '-', '-', '»', 'traditional', 'food', 'madagascar', '1.', 'tsena’ny', 'tantsaha', 'talatamaty:', 'rice', 'porridge', '+', 'chinese', 'noodle', 'soup', 'address:', 'talatamaty', 'city', 'open:', '3am', '-', '7am', '(or', 'whenever', 'police', 'shut', 'down)', 'four', 'miles', 'outside', 'madagascar’s', 'capital', 'city,', 'antananarivo,', 'lies', 'talatamaty', 'city.', 'talatamaty', 'city', 'home', 'one', 'country’s', 'largest', 'local', 'morning', 'markets,', 'tsena’ny', 'tantsaha.', 'sellers', 'open', 'shop', '3am,', 'selling', 'everything', 'produce', 'fabrics.', 'lucky', 'us,', 'market', 'shortage', 'food', 'try', 'well.', '🥣rice', 'porridge:', 'zebu', '(malagasy', 'cattle)', 'sausage', 'mixed', 'leaves,', 'ginger,', 'special', 'malagasy', 'rice,', 'porridge', 'spices.', '🥡chinese', 'noodle', 'dish:', 'pasta,', 'macaroni,', 'potato,', 'mayonnaise', 'zebu', 'skin.', '----', '2.', 'talata', 'volon’ondry:', 'sausage', '+', 'koba', 'address:', 'talata', 'volon’ondry', 'open:', 'varies', 'talata', 'volon’ondry', 'village', 'located', 'outside', 'antananarivo.', 'village', 'known', 'producing', 'sausage', 'madagascar’s', 'national', 'snack,', 'koba.', '🥔sausage:', 'typically', 'two', 'types', 'sausage', 'sold', '-', 'zebu', 'sausage', 'halal', 'style', 'potato', 'sausage.', 'snack', 'frequently', 'accompanied', 'local', 'rum.', '🇲🇬koba:', 'lay', 'banana', 'leaf', 'spines', 'banana', 'leaves', 'top.', 'add', 'layer', 'rice', 'flour', 'prevent', 'koba', 'mixture', 'sticking', 'banana', 'leaves.', 'add', 'koba', 'mixture,', 'combination', 'crushed', 'raw', 'peanuts', 'sugar.', 'wrap', 'banana', 'leaves', 'allow', 'cook', 'bit', 'water', '3', 'days.', 'koba', 'beloved', 'across', 'madagascar,', 'primarily', 'sold', 'street', 'people', 'cars', 'drive', 'city.', 'fuel', 'ingredients', 'gives', 'people', 'energy', 'helps', 'stay', 'full', 'even', 'walking', 'long', 'distances', 'without', 'source', 'food', 'along', 'way.', '💸price:', 'sausage', '.14', 'usd/500', 'mga', '|', 'koba', '.50', 'usd/1,756', 'mga', '-', '-', '-', '-', '-', '-', '-', '-', '-', '-', '-', '-', '-', '-', '-', '-', '-', '💬come', 'say', 'hi:', 'instagram', '»', 'http://bit.ly/besteverinstagram', '(@besteverfoodreviewshow)', 'facebook', '»', 'http://bit.ly/befrsfacebook', '💗support', 'mission:', 'patreon', 'platform', 'allows', 'people', 'support', 'creators', 'recurring', 'basis.', 'contribution', 'investment', 'creative', 'freedom', 'channel', 'enables', 'keep', 'content', 'authentic', 'uninterrupted.', 'generous', 'donation', 'allows', 'time', 'resources', 'create', 'videos', 'you.', 'also', 'pretty', 'sweet', 'rewards,', 'exclusive', 'patreon', 'bestys.', '»', 'http://bit.ly/besteverpatreon', '🥒about', 'befrs:', 'hey,', 'i’m', 'sonny!', 'i’m', 'us', 'currently', 'call', 'vietnam', 'home.', 'i’ve', 'living', 'asia', '10', 'years', 'started', 'making', 'food', 'travel', 'videos', 'document', 'experiences.', 'people', 'either', 'enjoyed', 'undeniable', 'charm', 'enjoyed', 'watching', 'eat', 'things', 'like', 'coconut', 'worms,', 'thus', 'best', 'ever', 'food', 'review', 'show', 'came', 'be.', 'travel', 'different', 'parts', 'world,', 'hunting', 'documenting', 'unique', 'food', 'country', 'offer.', 'see', 'factual', 'food', 'errors', 'videos,', 'please', 'feel', 'free', 'politely', 'let', 'know', 'comments.', \"i'm\", 'huge', 'fan', 'trying', 'different,', 'interesting', 'foods', 'country.', 'show', 'western', 'point', 'view,', 'importantly,', 'point', 'view.', 'meant', 'offend', 'person', 'culture.', 'don’t', 'forget', 'subscribe', 'best', 'ever', 'food', 'review', 'show,', 'connect', 'food', 'travel', 'become', 'bestys!', '-', '-', '-', '-', '-', '-', '-', '-', '-', '-', '-', '-', '-', '-', '-', '-', '-', '🎬credits:', 'director', 'photography', '»', 'bret', 'hamilton', 'camera', 'operator', '»', 'nguyễn', 'tân', 'khải', 'video', 'editor', '»', 'lê', 'anh', 'đỗ', 'color', '&', 'master', '»', 'quí', 'nguyễn', 'producer', '»', 'liz', 'peterson', 'business', 'inquiries,', 'please', 'email:']\n",
      "['ultimate', 'must-try', 'food', 'bucket', 'list.', 'burgers', 'dipped', 'cheese', 'classic', 'ny', 'cheesecakes', 'edible', 'cookie', 'dough,', '42', 'foods', 'eat', 'die', 'try', 'them.', '------------------------------------------------------', '#bucketlist', '#cheese', '#foodinsider', 'insider', 'great', 'journalism', 'passionate', 'people', 'actually', 'want', 'know.', 'that’s', 'everything', 'news', 'food,', 'celebrity', 'science,', 'politics', 'sports', 'rest.', 'it’s', 'smart.', 'it’s', 'fearless.', 'it’s', 'fun.', 'push', 'boundaries', 'digital', 'storytelling.', 'mission', 'inform', 'inspire.', 'subscribe', 'channel:', 'http://insder.co/food', 'visit', 'us', 'at:', 'https://insder.co/2ncg6sg', 'food', 'insider', 'facebook:', 'https://insder.co/2o4gt7a', 'food', 'insider', 'instagram:', 'http://insder.co/2aywjtk', 'food', 'insider', 'twitter:', 'https://insder.co/2iahhsi', 'insider', 'snapchat:', 'https://insder.co/2kjltvo', '42', 'foods', 'need', 'eat', 'die']\n",
      "['found', '5', 'best', 'interesting', 'indian', 'recipes', 'channel,', 'including', 'footage', 'gordon’s', 'time', 'spent', 'india.', 'gordon', 'ramsay', 'ultimate', 'fit', 'food:', 'http://amzn.to/2fznhtk', 'subscribe', 'weekly', 'cooking', 'videos.', 'liked', 'clip', 'check', 'rest', \"gordon's\", 'channels:']\n",
      "['likely', 'sitting', 'restaurant', 'set', 'chopsticks', 'hand', 'saying', '\"what', 'these?\"', 'videos', 'watch', 'seem', 'take', 'forever', 'learn.', 'video', 'simplicity.', 'although', 'traditional', 'method', 'use', 'chopsticks,', 'video', 'show', 'simple', 'way', 'start', 'using', 'right', 'away.', 'master', 'simple', 'technique,', 'traditional', 'method', 'cinch', 'learn.', 'mention,', 'finally', 'start', 'eating', 'dinner.', 'many', 'methods,', 'found', 'one', 'easiest', 'learn', 'little', 'practice,', 'chopsticks', 'master', 'time.', 'good', 'luck!', '---', 'please', 'support', 'like', 'content.', '(amazon', 'affiliate', 'link)', '8', 'pc', 'knife', 'set', 'rotating', 'block:', 'https://amzn.to/2s7v2pt', 'instant', 'pot', 'ultra', '6', 'qt:', 'https://amzn.to/2brzwm0', 'ez', 'jar', 'lid', 'opener:', 'https://amzn.to/2uy63af', 'clip', 'food', 'strainer', 'spaghetti:', 'https://amzn.to/2s8db3x', 'corn', 'cob', 'stripper:', 'https://amzn.to/2qefywz', 'grease', 'splatter', 'screen:', 'https://amzn.to/2r2coss', 'oxo', 'fish', 'turner:', 'https://amzn.to/2r67r1z', 'kuhn', 'rikon', 'swivel', 'peeler:', 'https://amzn.to/2uqur8k', 'cauliflower', 'prep', 'tool:', 'https://amzn.to/2qhbcab', 'thermopro', 'meat', 'thermometer:', 'https://amzn.to/2qfxloc', 'ozeri', 'pro', 'kitchen', 'scale:', 'https://amzn.to/2r5ujbd', 'pizza', 'cutter', 'wheel:', 'https://amzn.to/2r9wahq', 'orblue', 'apple', 'corer:', 'https://amzn.to/2s7lz1x', 'whisk', 'wiper', 'tool:', 'https://amzn.to/2s8op89', 'kibee', 'dish', 'drying', 'rack:', 'https://amzn.to/2bp9xzc', 'zyliss', 'opener:', 'https://amzn.to/2s7ra9k', 'kikkerland', 'ice', 'tray:', 'https://amzn.to/2r0xe53', 'kitcheniq', 'knife', 'sharpener:', 'https://amzn.to/2bqoio4', 'pineapple', 'cutter', 'corer:', 'https://amzn.to/2qgs1v2', 'easylife', 'measuring', 'spoons:', 'https://amzn.to/2bqknrj', 'premium', 'sharpening', 'stone:', 'https://amzn.to/2eeymph', 'meat', 'tenderizer:', 'https://amzn.to/2rlxcj0', 'professional', 'zester', 'grater:', 'https://amzn.to/2cltgvn', 'stainless', 'steel', 'spider', 'strainer:', 'https://amzn.to/2s7mlvt', 'creme', 'brulee', 'torch:', 'https://amzn.to/2cm7fdh', 'laser', 'digital', 'thermometer:', 'https://amzn.to/2sbcds6', 'oxo', 'avocado', 'slicer:', 'https://amzn.to/2cndmhz', '5', 'blade', 'kitchen', 'sears:', 'https://amzn.to/2s9vij0', 'clad', 'pans:', 'https://amzn.to/2ed7g1r', 'dalstrong', 'chefs', 'knife:', 'https://amzn.to/2uqwve6', 'large', 'walnut', 'cutting', 'board:', 'https://amzn.to/2s7ubvn', '___', 'music', 'by:', 'www.epidemicsound.com', 'check', 'out!']\n",
      "['help', 'support', 'sinstv!!', 'shop', 'sponsors!', 'last', 'longer', 'bed', '➡️http://promescent.com/johnnysins', 'get', 'clean/pick', 'girls!', '➡️http://tacticalsoap.com?rfsn=1579904....', 'shop', 'sins', 'merch', '➡️', 'shopsinslife.com', 'links', 'equipment', 'use!!', 'big', 'camera:', 'canon', '80d', 'https://goo.gl/p8apyf', 'wide', 'angle', 'lens:', 'https://goo.gl/fwdvg8', 'mic:', 'shure', 'vp83', 'https://goo.gl/8ikbql', 'tripod:', 'joby', 'https://goo.gl/362qqc', 'tripod:', 'lammcou', 'https://goo.gl/edpzfc', 'small', 'camera:', 'canon', 'gx7', 'https://goo.gl/ugk3aq', 'drone:', 'dji', 'mavic', 'pro', 'https://goo.gl/h1dkdd', 'gopro', 'hero', '5:', 'https://goo.gl/mhxnvv', 'gopro', 'stabilizer:', 'https://goo.gl/q3xwy4', 'computer:', 'apple', 'macbook', 'pro', 'https://goo.gl/lm5hji', 'editing:', 'abobe', 'premiere:', 'https://www.adobe.com/products/premie...', 'follow', 'me!', 'twitter:', '@johnnysins', 'instagram:', '@johnnysins', 'facebook:', 'facebook.com/realjohnnysins', 'vk:', 'vk.com/johnnysinsxxx', 'snapchat:', 'sinslifedotcom', 'amazon', 'wish', 'list:', 'http://a.co/c9foaeg', 'blog/erotic', 'writing:', 'sinslife.tumblr.com', 'kissa’s', 'social', 'media:', 'twitter:', '@kissasins', 'instagram:', '@coyotelovesyou', 'mailing', 'address:', '4001', 's.', 'decatur', 'blvd.', 'suite', '37-534', 'las', 'vegas,', 'nv', '89103']\n",
      "['blippi', 'eats', 'vegetables', 'blippi', 'takes', 'tour', 'chocolate', 'factory', 'see', 'sweet', 'treats', 'made.', 'make', 'sure', 'child', 'eats', 'healthy', 'food', 'first', 'watch', 'blippi', 'chocolate', 'factory', 'video', 'learn', 'types', 'food', 'children.', 'blippi', 'makes', 'educational', 'videos', 'toddlers', 'video', 'child', 'get', 'join', 'blippi', 'making', 'candy', 'chocolate!', 'watch', 'subscribe', 'blippi', 'https://youtube.com/blippi?sub_confirmation=1', 'full', 'blippi', 'playlist', 'blippi', 'videos', 'blippi', 'songs', 'watch', 'here:', 'https://www.youtube.com/watch?v=rpe4yziwiog&list=plzgk_utg08p-ubudr1x0gpdc5tvaixw8_', 'another', 'blippi', 'video', 'like', 'blippi', 'candy', 'factory', 'video', 'sure', 'watch', 'blippi', 'ice', 'cream', 'truck', 'video:', 'https://www.youtube.com/watch?v=o5-mkuendoa', 'want', 'video', 'healthy', 'food', 'check', 'blippi', 'fruit', 'video:', 'https://www.youtube.com/watch?v=h7fuov7r_w4']\n",
      "['http://bit.ly/subscribemt', 'video,', 'see', \"'hunting'\", 'best', 'mobile', 'network', 'egypt.', 'based', 'feedback', 'many', 'people', 'chose', 'buy', 'vodafone.', 'sim', 'cost', '150', 'le.', 'mobile', 'networks', 'like', 'etisalat,', 'orange', '(formerly', 'mobinil)', '(government', 'owned).', 'talking', 'availability', 'vegetarian', 'food', 'egypt,', 'difficult', 'south-east', 'asian', 'countries.', 'shared', 'food', 'expenses', 'video.', 'also,', 'see', 'incidents', 'tourist', 'hassles.', 'beginning', 'video', 'corrupt', 'practice', 'found', 'hotels', 'egypt.', 'shared', 'information', '-', 'query', 'feel', 'free', 'ask', '-', 'www.facebook.com/groups/touristhelpline', '(it', 'may', 'possible', 'answer', 'every', 'question', 'here,', 'group', 'members,', 'travellers,', 'travel', 'experts', 'help', 'you)', 'travel', 'series', '-', '#', 'thailand', 'playlist', '-', 'http://bit.ly/mtthailand2017', '#', 'europe', 'playlist', '-', 'http://bit.ly/mteurope2016', '#', 'bangladesh', 'playlist', '-', 'http://bit.ly/mtbangladesh2015', '#', 'spiti', '(india)', 'playlist', '-', 'http://bit.ly/mtspiti2017', '#', 'malaysia', 'playlist', '-', 'http://bit.ly/mtmalaysia2017', '#', 'russia', 'playlist', '-', 'http://bit.ly/mtrussia2017', '#', 'bali', 'playlist', '-', 'http://bit.ly/mtbali2017', '#', 'mizoram', 'playlist', '-', 'http://bit.ly/mtmizoram2017', 'please', 'share', 'videos', 'let', 'others', 'get', 'informed', 'channel', 'blog:', 'www.touristhelpline.com', 'instagram.com/touristhelpline', 'facebook.com/page.touristhelpline', 'twitter.com/touristhelpline', 'aitech', 'kevin', 'macleod', 'licensed', 'creative', 'commons', 'attribution', 'licence', '(https://creativecommons.org/licenses/by/4.0/)', 'source:', 'http://incompetech.com/music/royalty-free/index.html?isrc=usuan1100336', 'artist:', 'things', 'use', 'travelling', 'camera', '1:', 'camera', '2:', 'http://amzn.to/2ghoiru', 'gimbal:', 'http://amzn.to/2b9cspw', 'monopod:', 'http://amzn.to/2zuy42w', 'phone:', 'http://amzn.to/2fzxefn', 'video', 'editing:', 'http://amzn.to/2ocwoqa', 'rucksack', '-', 'http://amzn.to/2jicpha']\n",
      "['trying', 'many', 'different', 'kinds', 'chinese', 'street', 'food', 'liuhe', 'tourist', 'night', 'market', 'located', 'south', 'taiwan', 'liuhe', 'tourist', 'night', 'market', 'address:', 'liuhe', '2nd', 'road,', 'xinxing', 'district,', 'kaohsiung', 'city,', 'taiwan', '800']\n",
      "['alright', 'guys', 'hope', 'liked', 'video.', 'aim', 'find', 'somewhat', 'solution', 'dilemma,', 'three', 'day', 'food', 'festival', 'titled,', '‘horn', 'ok', 'please', '-', 'delhi’s', 'happiest', 'food', 'festival’', 'organised', 'digant', 'sharma,', 'founder,', 'delhi.', '“most', 'food', 'festivals', 'feature', 'eateries', 'dishes', 'skyrocketing', 'prices,', '5th', 'edition', 'festival,', 'aim', 'offer', 'delicious', 'food', 'pocket-friendly', 'prices”,', 'says.', 'festival', 'family-friendly', 'food', 'carnival', 'showcasing', '150+', 'eateries', 'across', 'city.', 'however', 'fest', 'plethora', 'food', 'stalls.', 'festival', 'included', 'flea', 'market', 'called', '‘quirk', 'bazzar’', 'featured', 'souvenirs,', 'stationary', 'apparels.', 'along', 'that,', 'public', 'could', 'tried', 'hand', 'vr,', 'bungee,', 'bull', 'riding,', 'segway', '&', 'atv', 'rides', 'zone', 'called', '‘experience', 'zone’.', 'coming', 'food', 'side', 'fest,', 'food', 'carts', 'food', 'wheels', 'also', 'known', 'food', 'trucks', 'served', 'food', 'reasonable', 'rates', 'food', 'stalls', 'served', 'items', 'one', 'could', 'even', 'imagined.', 'whether', 'one', 'wanted', 'simple', 'pizza', 'one', 'craved', 'pancake', 'waffle;', 'one', 'craved', 'oriental', 'simple', 'kathi', 'roll,', 'there.', 'social', 'links', 'music', 'provided', 'by:https://www.youtube.com/user/nocopyrightsounds']\n",
      "['🎥village', 'food', 'madagascar!', '»', 'https://youtu.be/ewba1foq96c', '🇲🇬go', 'tour', 'madagascar!', '»', 'http://bit.ly/ramartour', '👕get', 'best', 'ever', 'merch!', '»', 'http://bit.ly/befrsmerch', '💗support', 'mission', '»', 'http://bit.ly/besteverpatreon', '🛵learn', 'onetrip’s', 'vietnam', 'tours', '»', 'http://bit.ly/befrsonetrip', 'special', 'thanks', 'joel', 'ramartour', 'madagascar', 'helping', 'us', 'get', 'taste', 'best', 'street', 'food', 'antananarivo.', 'go', 'tour', 'madagascar', 'ramartour:', 'http://bit.ly/ramartour', 'follow', 'instagram', 'see', 'madagascar', '@ramartour_madagascar', '-', '-', '-', '-', '-', '-', '-', '-', '-', '-', '-', '-', '-', '-', '-', '-', '-', '»', 'malagasy', 'street', 'food', '1.', 'selesy:', 'mofo', 'akondro', '(fried', 'bananas)', '+', 'mofo', 'anana', '(fried', 'vegetable)', 'address:', 'antananarivo', 'open:', 'varies', '🍌we', 'began', 'street', 'food', 'journey', 'stop', 'one', 'antananarivo’s', 'popular', 'fried', 'banana', 'fried', 'vegetable', 'stalls.', 'two', 'popular', 'snacks', 'malagasy', 'people', 'fried', 'bananas,', 'sliced', 'dipped', 'rice', 'wheat', 'flour', 'batter', 'fried;', 'fried', 'green', 'onion,', 'mixed', 'batter,', 'fried', 'eaten', 'side', 'chili', 'vinegar', 'sauce.', '💸price:', '.13', 'usd/500', 'mga', 'per', 'piece', '----', '2.', 'street', 'food', 'stall:', 'coconut', 'sweet', 'address:', 'antananarivo', 'open:', 'varies', '🥥pink', 'coconut', 'sweet:', 'shaved', 'coconut', 'sugar', 'mixed', 'together,', 'pink', 'food', 'coloring', 'added', 'attract', 'people', 'buy', 'sweet', 'treat.', '💸price:', '.08', 'usd/280', 'mga', '----', '3.', 'malagasy', 'cafeteria:', 'zebu', 'sausage', '+', 'chicken', '+', 'baked', 'beans', '+', 'rice', 'address:', 'antananarivo', 'open:', 'lunch', '+', 'dinner', '🍛this', 'open-air', 'cafeteria', 'common', 'lunch', 'stop', 'people', 'madagascar.', 'lunch', 'generally', 'consists', 'rice,', 'beans,', 'zebu', 'sausage', 'chicken', 'side', 'vegetable.', 'let', 'joel', 'enjoy', 'veggies.', '💸price:', '1.42', 'usd/5,000', 'mga', '----', '4.', 'sopero', 'milomboko:', 'grilled', 'zebu', 'pako-pako', 'address:', 'antananarivo', '🥙grilled', 'zebu', 'type', 'cattle', 'originating', 'east', 'africa.', 'zebu', 'meat', 'mixed', 'garlic', 'ginger', 'grilled.', 'pako-pako', 'unique', 'malagasy', 'flatbread', 'served', 'grilled', 'zebu', 'meat.', 'rice', 'flour', 'mixed', 'coconut', 'milk', 'oil,', 'kneaded', 'portioned', 'perfectly', 'sized', 'balls.', 'dough', 'flattened', 'fried', 'oil', 'perfection.', 'fresh', 'pickled', 'vegetable', 'salad', 'typically', 'accompanies', 'traditional', 'meal.', '💸price:', '.28', 'usd/1,000', 'mga', '----', '5.', 'street', 'vendor:', 'mofo', 'gasy', '(malagasy', 'bread)', 'address:', 'antananarivo', 'rice', 'flour', 'batter', 'rolled', 'ball', 'fried', 'oil', 'topped', 'salt.', 'little', 'round', 'fried', 'bread', 'tastes', 'bit', 'like', 'salty', 'donut', 'makes', 'perfect', 'afternoon', 'snack.', '💸price:', '.02', 'usd/70', 'mga', 'per', 'piece', '----', '6.', 'street', 'food', 'stall:', 'zebu', 'mouth', 'salad', '+', 'chicken', 'legs', '🐮zebu', 'mouth', 'salad:', 'green', 'peppers,', 'onion,', 'vinegar,', 'zebu', 'mouth', 'lime.', '🍗a', 'common', 'meal', 'madagascar', 'consists', 'chicken', 'stock', 'soup', 'noodles', 'fried', 'chicken', 'legs.', '💸price:', '.28', 'usd/1,000', 'mga', 'per', 'chicken', 'leg', '-', '-', '-', '-', '-', '-', '-', '-', '-', '-', '-', '-', '-', '-', '-', '-', '-', '💬come', 'say', 'hi:', 'instagram', '»', 'http://bit.ly/besteverinstagram', '(@besteverfoodreviewshow)', 'facebook', '»', 'http://bit.ly/befrsfacebook', '💗support', 'mission:', 'patreon', 'platform', 'allows', 'people', 'support', 'creators', 'recurring', 'basis.', 'contribution', 'investment', 'creative', 'freedom', 'channel', 'enables', 'keep', 'content', 'authentic', 'uninterrupted.', 'generous', 'donation', 'allows', 'time', 'resources', 'create', 'videos', 'you.', 'also', 'pretty', 'sweet', 'rewards,', 'exclusive', 'patreon', 'bestys.', '»', 'http://bit.ly/besteverpatreon', '🥒about', 'befrs:', 'hey,', 'i’m', 'sonny!', 'i’m', 'us', 'currently', 'call', 'vietnam', 'home.', 'i’ve', 'living', 'asia', '10', 'years', 'started', 'making', 'food', 'travel', 'videos', 'document', 'experiences.', 'people', 'either', 'enjoyed', 'undeniable', 'charm', 'enjoyed', 'watching', 'eat', 'things', 'like', 'coconut', 'worms,', 'thus', 'best', 'ever', 'food', 'review', 'show', 'came', 'be.', 'travel', 'different', 'parts', 'world,', 'hunting', 'documenting', 'unique', 'food', 'country', 'offer.', 'see', 'factual', 'food', 'errors', 'videos,', 'please', 'feel', 'free', 'politely', 'let', 'know', 'comments.', \"i'm\", 'huge', 'fan', 'trying', 'different,', 'interesting', 'foods', 'country.', 'show', 'western', 'point', 'view,', 'importantly,', 'point', 'view.', 'meant', 'offend', 'person', 'culture.', 'don’t', 'forget', 'subscribe', 'best', 'ever', 'food', 'review', 'show,', 'connect', 'food', 'travel', 'become', 'bestys!', '-', '-', '-', '-', '-', '-', '-', '-', '-', '-', '-', '-', '-', '-', '-', '-', '-', '🎬credits:', 'director', 'photography', '»', 'bret', 'hamilton', 'camera', 'operator', '»', 'nguyễn', 'tân', 'khải', 'video', 'editor', '»', 'dương', 'quốc', 'huy', 'color', '&', 'master', '»', 'quí', 'nguyễn', 'producer', '»', 'liz', 'peterson', 'business', 'inquiries,', 'please', 'email:']\n"
     ]
    }
   ],
   "source": [
    "t1=[]\n",
    "r=pd.DataFrame(columns=[\"word\",\"cnt\"])\n",
    "temp=[]\n",
    "x=df[df['Category']==\"Food\"]\n",
    "x=x.head(10)\n",
    "# print(x)\n",
    "count=0\n",
    "mail=r'[a-zA-Z0-9+_.]+[a-z0-9]+@[a-z0-9A-Z]+\\.[com]*[net]*'\n",
    "la=r'[http|ftp|https:]+\\/\\/+[\\w\\-_]+\\.[\\w\\-_]+[\\w\\-\\.,@?^=%&amp;:/~\\+#]*[\\w\\-\\@?^=%&amp;/~\\+#]+'\n",
    "has=r'#[\\w]+'\n",
    "for j in x[\"Description\"]:\n",
    "    check=[]\n",
    "    no_mail=re.findall(mail,j)\n",
    "#     print(no_mail)\n",
    "    no_has=re.findall(has,j)\n",
    "    link=re.findall(la,j)\n",
    "#     print(link)\n",
    "#     for m in j:\n",
    "#         if m not in (no_mail):\n",
    "#             temp=m\n",
    "    j=j.lower().split()\n",
    "#     print(j)\n",
    "    check=no_mail+no_has+stop_words+link\n",
    "#     check.append(no_has)\n",
    "#     check.append(stop_words)\n",
    "#     check.join()\n",
    "#     print(check)\n",
    "    temp=[e for e in j if e not in check]\n",
    "# #     temp=temp.lower().split()\n",
    "    print(temp)\n",
    "#     print(j)\n",
    "#     temp=[e for e in temp if e not in ('to','for','from','some','get','you','»','your','of','is','in','this','the','a','\\n','here','there','This','but','A','In','Hi','by','on','I','me')]\n",
    "#     print(temp)\n",
    "#     count=count+1\n",
    "#     print(count)\n",
    "#     temp.remove('\\n')\n",
    "#     temp.remove('is')\n",
    "#     temp.remove('a')\n",
    "#     temp.remove('the')\n",
    "#     temp.remove('by')\n",
    "#     temp.remove('me')\n",
    "#     temp.remove('here')\n",
    "#     temp.remove('there')\n",
    "#     temp.remove('.')\n",
    "   \n",
    "#     t1=t1+temp\n",
    "# print(t1)\n",
    "    \n",
    "# for k in t1:\n",
    "# #             print(t1.count(k))\n",
    "#             r=r.append({\"word\":k,\"cnt\":t1.count(k)},ignore_index=True)\n",
    "# print(r.groupby(by='word').sum())\n",
    "#r"
   ]
  },
  {
   "cell_type": "code",
   "execution_count": null,
   "metadata": {},
   "outputs": [],
   "source": []
  },
  {
   "cell_type": "code",
   "execution_count": 4,
   "metadata": {},
   "outputs": [
    {
     "data": {
      "text/plain": [
       "0                     Food\n",
       "1828         manufacturing\n",
       "3527               History\n",
       "5172           travel blog\n",
       "7372    Science&Technology\n",
       "9446             Art&Music\n",
       "Name: Category, dtype: object"
      ]
     },
     "execution_count": 4,
     "metadata": {},
     "output_type": "execute_result"
    }
   ],
   "source": [
    "df['Category'].drop_duplicates()"
   ]
  },
  {
   "cell_type": "code",
   "execution_count": null,
   "metadata": {},
   "outputs": [],
   "source": []
  }
 ],
 "metadata": {
  "kernelspec": {
   "display_name": "Python 3",
   "language": "python",
   "name": "python3"
  },
  "language_info": {
   "codemirror_mode": {
    "name": "ipython",
    "version": 3
   },
   "file_extension": ".py",
   "mimetype": "text/x-python",
   "name": "python",
   "nbconvert_exporter": "python",
   "pygments_lexer": "ipython3",
   "version": "3.7.3"
  }
 },
 "nbformat": 4,
 "nbformat_minor": 2
}
