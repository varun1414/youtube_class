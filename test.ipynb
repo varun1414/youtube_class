{
 "cells": [
  {
   "cell_type": "code",
   "execution_count": 2,
   "metadata": {},
   "outputs": [],
   "source": [
    "import re"
   ]
  },
  {
   "cell_type": "code",
   "execution_count": 78,
   "metadata": {},
   "outputs": [
    {
     "name": "stdout",
     "output_type": "stream",
     "text": [
      "['https://amzn.to/2r67r1z', 'https://youtu.be/5jcgwu-gvm4']\n"
     ]
    }
   ],
   "source": [
    "tr='https://amzn.to/2r67r1z hello hi https://youtu.be/5jcgwu-gvm4'\n",
    "stsr='#hi yo\\\n",
    "      #kok #bye team.befrs@gmail.com'\n",
    "pat=r'[a-zA-Z0-9+_.]+[a-z0-9]+@[a-z0-9A-Z]+\\.[com]*[net]*'\n",
    "cat=r'#[\\w]+'\n",
    "sat=r'[http|ftp|https:]+\\/\\/+[\\w\\-_]+\\.[\\w\\-_]+[\\w\\-\\.,@?^=%&amp;:/~\\+#]*[\\w\\-\\@?^=%&amp;/~\\+#]+'\n",
    "m=re.findall(sat,tr)\n",
    "tr=tr.split()\n",
    "tr\n",
    "# pat=r\"[a-zA-Z0-9_.+-]+@[a-zA-Z0-9-]+\\.[a-zA-Z0-9-.]+\"\n",
    "# \n",
    "temp=[e for e in tr if e in m ]\n",
    "print(m)"
   ]
  },
  {
   "cell_type": "code",
   "execution_count": null,
   "metadata": {},
   "outputs": [],
   "source": []
  }
 ],
 "metadata": {
  "kernelspec": {
   "display_name": "Python 3",
   "language": "python",
   "name": "python3"
  },
  "language_info": {
   "codemirror_mode": {
    "name": "ipython",
    "version": 3
   },
   "file_extension": ".py",
   "mimetype": "text/x-python",
   "name": "python",
   "nbconvert_exporter": "python",
   "pygments_lexer": "ipython3",
   "version": "3.7.3"
  }
 },
 "nbformat": 4,
 "nbformat_minor": 2
}
