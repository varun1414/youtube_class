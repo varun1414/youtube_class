{
 "cells": [
  {
   "cell_type": "code",
   "execution_count": 2,
   "metadata": {},
   "outputs": [],
   "source": [
    "import re"
   ]
  },
  {
   "cell_type": "code",
   "execution_count": 60,
   "metadata": {},
   "outputs": [
    {
     "name": "stdout",
     "output_type": "stream",
     "text": [
      "<re.Match object; span=(1, 17), match='yes.23@gmail.com'>\n",
      "<re.Match object; span=(18, 34), match='no23@yes.com.net'>\n",
      "<re.Match object; span=(35, 38), match='pol'>\n"
     ]
    }
   ],
   "source": [
    "tr='#yes.23@gmail.com no23@yes.com.net pol'\n",
    "pat=r'([a-z]+[\\.]*\\d*[a-z]*@[a-z]+[\\.com]*[\\.net]*)*[a-z]+'\n",
    "m=re.finditer(pat,tr)\n",
    "for i in m:\n",
    "    print(i)"
   ]
  },
  {
   "cell_type": "code",
   "execution_count": null,
   "metadata": {},
   "outputs": [],
   "source": []
  }
 ],
 "metadata": {
  "kernelspec": {
   "display_name": "Python 3",
   "language": "python",
   "name": "python3"
  },
  "language_info": {
   "codemirror_mode": {
    "name": "ipython",
    "version": 3
   },
   "file_extension": ".py",
   "mimetype": "text/x-python",
   "name": "python",
   "nbconvert_exporter": "python",
   "pygments_lexer": "ipython3",
   "version": "3.7.3"
  }
 },
 "nbformat": 4,
 "nbformat_minor": 2
}
