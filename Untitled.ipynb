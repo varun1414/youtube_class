{
 "cells": [
  {
   "cell_type": "code",
   "execution_count": 39,
   "metadata": {},
   "outputs": [],
   "source": [
    "import re"
   ]
  },
  {
   "cell_type": "code",
   "execution_count": 43,
   "metadata": {},
   "outputs": [
    {
     "name": "stdout",
     "output_type": "stream",
     "text": [
      "h\n",
      "e\n",
      " \n",
      "h\n",
      " \n"
     ]
    }
   ],
   "source": [
    "test=\"hello hi varun@gmail.com\"\n",
    "mail=r'[a-zA-Z0-9+_.]+[a-z0-9]+@[a-z0-9A-Z]+\\.com'\n",
    "has=r'#[\\w]+'\n",
    "# for j in test:\n",
    "#     print(j)\n",
    "no_mail=re.findall(mail,test)\n",
    "# print(no_mail)\n",
    "no_has=re.findall(has,j)\n",
    "# print(no_mail)\n",
    "for i in test:\n",
    "    if i not in str(no_mail):\n",
    "        print(i)\n",
    "# print(temp)"
   ]
  },
  {
   "cell_type": "code",
   "execution_count": null,
   "metadata": {},
   "outputs": [],
   "source": []
  }
 ],
 "metadata": {
  "kernelspec": {
   "display_name": "Python 3",
   "language": "python",
   "name": "python3"
  },
  "language_info": {
   "codemirror_mode": {
    "name": "ipython",
    "version": 3
   },
   "file_extension": ".py",
   "mimetype": "text/x-python",
   "name": "python",
   "nbconvert_exporter": "python",
   "pygments_lexer": "ipython3",
   "version": "3.7.3"
  }
 },
 "nbformat": 4,
 "nbformat_minor": 2
}
