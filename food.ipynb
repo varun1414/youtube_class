{
 "cells": [
  {
   "cell_type": "code",
   "execution_count": 1,
   "metadata": {},
   "outputs": [],
   "source": [
    "import seaborn as sns\n",
    "import pandas as pd\n",
    "import matplotlib.pyplot as py"
   ]
  },
  {
   "cell_type": "code",
   "execution_count": 2,
   "metadata": {},
   "outputs": [],
   "source": [
    "df=pd.read_csv(\"Youtube Video Dataset.csv\")\n",
    "# df[\"Description\"][0]"
   ]
  },
  {
   "cell_type": "code",
   "execution_count": 3,
   "metadata": {},
   "outputs": [
    {
     "data": {
      "text/html": [
       "<div>\n",
       "<style scoped>\n",
       "    .dataframe tbody tr th:only-of-type {\n",
       "        vertical-align: middle;\n",
       "    }\n",
       "\n",
       "    .dataframe tbody tr th {\n",
       "        vertical-align: top;\n",
       "    }\n",
       "\n",
       "    .dataframe thead th {\n",
       "        text-align: right;\n",
       "    }\n",
       "</style>\n",
       "<table border=\"1\" class=\"dataframe\">\n",
       "  <thead>\n",
       "    <tr style=\"text-align: right;\">\n",
       "      <th></th>\n",
       "      <th>word</th>\n",
       "      <th>cnt</th>\n",
       "    </tr>\n",
       "  </thead>\n",
       "  <tbody>\n",
       "    <tr>\n",
       "      <th>0</th>\n",
       "      <td>🎥giant</td>\n",
       "      <td>1</td>\n",
       "    </tr>\n",
       "    <tr>\n",
       "      <th>1</th>\n",
       "      <td>alien</td>\n",
       "      <td>1</td>\n",
       "    </tr>\n",
       "    <tr>\n",
       "      <th>2</th>\n",
       "      <td>snail</td>\n",
       "      <td>1</td>\n",
       "    </tr>\n",
       "    <tr>\n",
       "      <th>3</th>\n",
       "      <td>japan!</td>\n",
       "      <td>1</td>\n",
       "    </tr>\n",
       "    <tr>\n",
       "      <th>4</th>\n",
       "      <td>https://youtu.be/5jcgwu-gvm4</td>\n",
       "      <td>1</td>\n",
       "    </tr>\n",
       "    <tr>\n",
       "      <th>...</th>\n",
       "      <td>...</td>\n",
       "      <td>...</td>\n",
       "    </tr>\n",
       "    <tr>\n",
       "      <th>2184</th>\n",
       "      <td>business</td>\n",
       "      <td>2</td>\n",
       "    </tr>\n",
       "    <tr>\n",
       "      <th>2185</th>\n",
       "      <td>inquiries,</td>\n",
       "      <td>2</td>\n",
       "    </tr>\n",
       "    <tr>\n",
       "      <th>2186</th>\n",
       "      <td>please</td>\n",
       "      <td>7</td>\n",
       "    </tr>\n",
       "    <tr>\n",
       "      <th>2187</th>\n",
       "      <td>email:</td>\n",
       "      <td>2</td>\n",
       "    </tr>\n",
       "    <tr>\n",
       "      <th>2188</th>\n",
       "      <td>team.befrs@gmail.com</td>\n",
       "      <td>2</td>\n",
       "    </tr>\n",
       "  </tbody>\n",
       "</table>\n",
       "<p>2189 rows × 2 columns</p>\n",
       "</div>"
      ],
      "text/plain": [
       "                              word cnt\n",
       "0                           🎥giant   1\n",
       "1                            alien   1\n",
       "2                            snail   1\n",
       "3                           japan!   1\n",
       "4     https://youtu.be/5jcgwu-gvm4   1\n",
       "...                            ...  ..\n",
       "2184                      business   2\n",
       "2185                    inquiries,   2\n",
       "2186                        please   7\n",
       "2187                        email:   2\n",
       "2188          team.befrs@gmail.com   2\n",
       "\n",
       "[2189 rows x 2 columns]"
      ]
     },
     "execution_count": 3,
     "metadata": {},
     "output_type": "execute_result"
    }
   ],
   "source": [
    "t1=[]\n",
    "r=pd.DataFrame(columns=[\"word\",\"cnt\"])\n",
    "temp=[]\n",
    "x=df[df['Category']==\"Food\"]\n",
    "x=x.head(10)\n",
    "# print(x)\n",
    "count=0\n",
    "for j in x[\"Description\"]:\n",
    "    temp=j.lower().split()\n",
    "#     print(j)\n",
    "#     temp=[e for e in temp if e not in ('to','for','from','some','get','you','»','your','of','is','in','this','the','a','\\n','here','there','This','but','A','In','Hi','by','on','I','me')]\n",
    "#     print(temp)\n",
    "#     count=count+1\n",
    "#     print(count)\n",
    "#     temp.remove('\\n')\n",
    "#     temp.remove('is')\n",
    "#     temp.remove('a')\n",
    "#     temp.remove('the')\n",
    "#     temp.remove('by')\n",
    "#     temp.remove('me')\n",
    "#     temp.remove('here')\n",
    "#     temp.remove('there')\n",
    "#     temp.remove('.')\n",
    "   \n",
    "    t1=t1+temp\n",
    "# print(t1)\n",
    "    \n",
    "for k in t1:\n",
    "#             print(t1.count(k))\n",
    "            r=r.append({\"word\":k,\"cnt\":t1.count(k)},ignore_index=True)\n",
    "# print(r.groupby(by='word').sum())\n",
    "r"
   ]
  },
  {
   "cell_type": "code",
   "execution_count": null,
   "metadata": {},
   "outputs": [],
   "source": []
  },
  {
   "cell_type": "code",
   "execution_count": 4,
   "metadata": {},
   "outputs": [
    {
     "data": {
      "text/plain": [
       "0                     Food\n",
       "1828         manufacturing\n",
       "3527               History\n",
       "5172           travel blog\n",
       "7372    Science&Technology\n",
       "9446             Art&Music\n",
       "Name: Category, dtype: object"
      ]
     },
     "execution_count": 4,
     "metadata": {},
     "output_type": "execute_result"
    }
   ],
   "source": [
    "df['Category'].drop_duplicates()"
   ]
  },
  {
   "cell_type": "code",
   "execution_count": null,
   "metadata": {},
   "outputs": [],
   "source": []
  }
 ],
 "metadata": {
  "kernelspec": {
   "display_name": "Python 3",
   "language": "python",
   "name": "python3"
  },
  "language_info": {
   "codemirror_mode": {
    "name": "ipython",
    "version": 3
   },
   "file_extension": ".py",
   "mimetype": "text/x-python",
   "name": "python",
   "nbconvert_exporter": "python",
   "pygments_lexer": "ipython3",
   "version": "3.7.3"
  }
 },
 "nbformat": 4,
 "nbformat_minor": 2
}
