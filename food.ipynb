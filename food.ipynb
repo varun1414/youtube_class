{
 "cells": [
  {
   "cell_type": "code",
   "execution_count": 1,
   "metadata": {},
   "outputs": [
    {
     "name": "stderr",
     "output_type": "stream",
     "text": [
      "[nltk_data] Downloading package stopwords to\n",
      "[nltk_data]     C:\\Users\\HP\\AppData\\Roaming\\nltk_data...\n",
      "[nltk_data]   Package stopwords is already up-to-date!\n"
     ]
    },
    {
     "data": {
      "text/plain": [
       "True"
      ]
     },
     "execution_count": 1,
     "metadata": {},
     "output_type": "execute_result"
    }
   ],
   "source": [
    "import seaborn as sns\n",
    "import pandas as pd\n",
    "import matplotlib.pyplot as py\n",
    "from nltk.corpus import stopwords\n",
    "from nltk.tokenize import word_tokenize\n",
    "import nltk\n",
    "import re\n",
    "import time\n",
    "nltk.download('stopwords')"
   ]
  },
  {
   "cell_type": "code",
   "execution_count": 141,
   "metadata": {},
   "outputs": [
    {
     "name": "stdout",
     "output_type": "stream",
     "text": [
      "True\n"
     ]
    }
   ],
   "source": [
    "stop_words = set(stopwords.words('english'))\n",
    "df=pd.read_csv(\"Youtube Video Dataset.csv\")\n",
    "# df[\"Description\"][0]\n",
    "# print(stop_words)\n",
    "stop_words=list(stop_words)\n",
    "print('in' in stop_words)"
   ]
  },
  {
   "cell_type": "code",
   "execution_count": 152,
   "metadata": {},
   "outputs": [],
   "source": [
    "t1=[]\n",
    "r=pd.DataFrame(columns=[\"word\",\"cnt\"])\n",
    "temp=[]\n",
    "x=df.head(2000)\n",
    "\n",
    "# print(x)\n",
    "count=0\n",
    "mail=r'[a-zA-Z0-9+_.]+[a-z0-9]+@[a-z0-9A-Z]+\\.[com]*[net]*'\n",
    "la=r'[http|ftp|https:]+\\/\\/+[\\w\\-_]+\\.[\\w\\-_]+[\\w\\-\\.,@?^=%&amp;:/~\\+#]*[\\w\\-\\@?^=%&amp;/~\\+#]+'\n",
    "has=r'#[\\w]+'\n",
    "for j in x[\"Description\"]:\n",
    "    check=[]\n",
    "    no_mail=re.findall(mail,j)\n",
    "#     print(no_mail)\n",
    "    no_has=re.findall(has,j)\n",
    "    link=re.findall(la,j)\n",
    "#     print(link)\n",
    "#     for m in j:\n",
    "#         if m not in (no_mail):\n",
    "#             temp=m\n",
    "    j=j.lower().split()\n",
    "#     print(j)\n",
    "    check=no_mail+no_has+stop_words+link\n",
    "#     check.append(no_has)\n",
    "#     check.append(stop_words)\n",
    "#     check.join()\n",
    "#     print(check)\n",
    "    temp=[e for e in j if e not in check]\n",
    "# #     temp=temp.lower().split()\n",
    "#     print(temp)\n",
    "#     print(j)\n",
    "#     temp=[e for e in temp if e not in ('to','for','from','some','get','you','»','your','of','is','in','this','the','a','\\n','here','there','This','but','A','In','Hi','by','on','I','me')]\n",
    "#     print(temp)\n",
    "#     count=count+1\n",
    "#     print(count)\n",
    "#     temp.remove('\\n')\n",
    "#     temp.remove('is')\n",
    "#     temp.remove('a')\n",
    "#     temp.remove('the')\n",
    "#     temp.remove('by')\n",
    "#     temp.remove('me')\n",
    "#     temp.remove('here')\n",
    "#     temp.remove('there')\n",
    "#     temp.remove('.')\n",
    "   \n",
    "#     t1=t1+temp\n",
    "# print(t1)\n",
    "    \n",
    "# for k in t1:\n",
    "# #             print(t1.count(k))\n",
    "#             r=r.append({\"word\":k,\"cnt\":t1.count(k)},ignore_index=True)\n",
    "# print(r.groupby(by='word').sum())\n",
    "#r"
   ]
  },
  {
   "cell_type": "code",
   "execution_count": null,
   "metadata": {},
   "outputs": [],
   "source": []
  },
  {
   "cell_type": "code",
   "execution_count": 143,
   "metadata": {},
   "outputs": [
    {
     "data": {
      "text/plain": [
       "0                     Food\n",
       "1828         manufacturing\n",
       "3527               History\n",
       "5172           travel blog\n",
       "7372    Science&Technology\n",
       "9446             Art&Music\n",
       "Name: Category, dtype: object"
      ]
     },
     "execution_count": 143,
     "metadata": {},
     "output_type": "execute_result"
    }
   ],
   "source": [
    "df['Category'].drop_duplicates()"
   ]
  },
  {
   "cell_type": "code",
   "execution_count": 145,
   "metadata": {},
   "outputs": [],
   "source": [
    "# start_time = time.clock()\n",
    "# for index, row in df.iterrows():\n",
    "#     if type(row['Description']) is str:\n",
    "#         preprocessing(row['Description'], index, 'Description')\n",
    "# print('Time took for preprocessing the text :',time.clock() - start_time, \"seconds\")"
   ]
  },
  {
   "cell_type": "code",
   "execution_count": null,
   "metadata": {},
   "outputs": [],
   "source": []
  }
 ],
 "metadata": {
  "kernelspec": {
   "display_name": "Python 3",
   "language": "python",
   "name": "python3"
  },
  "language_info": {
   "codemirror_mode": {
    "name": "ipython",
    "version": 3
   },
   "file_extension": ".py",
   "mimetype": "text/x-python",
   "name": "python",
   "nbconvert_exporter": "python",
   "pygments_lexer": "ipython3",
   "version": "3.7.3"
  }
 },
 "nbformat": 4,
 "nbformat_minor": 2
}
