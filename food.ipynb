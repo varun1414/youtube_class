{
 "cells": [
  {
   "cell_type": "code",
   "execution_count": 1,
   "metadata": {},
   "outputs": [],
   "source": [
    "import seaborn as sns\n",
    "import pandas as pd\n",
    "import matplotlib.pyplot as py"
   ]
  },
  {
   "cell_type": "code",
   "execution_count": 152,
   "metadata": {},
   "outputs": [],
   "source": [
    "df=pd.read_csv(\"Youtube Video Dataset.csv\")\n",
    "# df[\"Description\"][0]"
   ]
  },
  {
   "cell_type": "code",
   "execution_count": null,
   "metadata": {},
   "outputs": [],
   "source": [
    "t1=[]\n",
    "r=pd.DataFrame(columns=[\"word\",\"cnt\"])\n",
    "temp=[]\n",
    "x=df[df['Category']==\"Food\"]\n",
    "x=x.head(10)\n",
    "# print(x)\n",
    "count=0\n",
    "for j in x[\"Description\"]:\n",
    "    temp=j.lower().split()\n",
    "#     print(j)\n",
    "    temp=[e for e in temp if e not in ('to','for','from','some','get','you','»','is','in','this','the','a','\\n','here','there','This','but','A','In','Hi','by','on','I','me')]\n",
    "#     print(temp)\n",
    "#     count=count+1\n",
    "#     print(count)\n",
    "#     temp.remove('\\n')\n",
    "#     temp.remove('is')\n",
    "#     temp.remove('a')\n",
    "#     temp.remove('the')\n",
    "#     temp.remove('by')\n",
    "#     temp.remove('me')\n",
    "#     temp.remove('here')\n",
    "#     temp.remove('there')\n",
    "#     temp.remove('.')\n",
    "   \n",
    "    t1=t1+temp\n",
    "# print(t1)\n",
    "    \n",
    "for k in t1:\n",
    "#             print(t1.count(k))\n",
    "            r=r.append({\"word\":k,\"cnt\":t1.count(k)},ignore_index=True)\n",
    "# print(r.groupby(by='word').sum())\n",
    "r.head(18)"
   ]
  },
  {
   "cell_type": "code",
   "execution_count": null,
   "metadata": {},
   "outputs": [],
   "source": []
  },
  {
   "cell_type": "code",
   "execution_count": 18,
   "metadata": {},
   "outputs": [
    {
     "data": {
      "text/plain": [
       "0                     Food\n",
       "1828         manufacturing\n",
       "3527               History\n",
       "5172           travel blog\n",
       "7372    Science&Technology\n",
       "9446             Art&Music\n",
       "Name: Category, dtype: object"
      ]
     },
     "execution_count": 18,
     "metadata": {},
     "output_type": "execute_result"
    }
   ],
   "source": [
    "df['Category'].drop_duplicates()"
   ]
  },
  {
   "cell_type": "code",
   "execution_count": null,
   "metadata": {},
   "outputs": [],
   "source": []
  }
 ],
 "metadata": {
  "kernelspec": {
   "display_name": "Python 3",
   "language": "python",
   "name": "python3"
  },
  "language_info": {
   "codemirror_mode": {
    "name": "ipython",
    "version": 3
   },
   "file_extension": ".py",
   "mimetype": "text/x-python",
   "name": "python",
   "nbconvert_exporter": "python",
   "pygments_lexer": "ipython3",
   "version": "3.7.3"
  }
 },
 "nbformat": 4,
 "nbformat_minor": 2
}
