{
 "cells": [
  {
   "cell_type": "code",
   "execution_count": 1,
   "metadata": {},
   "outputs": [],
   "source": [
    "import seaborn as sns\n",
    "import pandas as pd\n",
    "import matplotlib.pyplot as py"
   ]
  },
  {
   "cell_type": "code",
   "execution_count": 106,
   "metadata": {},
   "outputs": [],
   "source": [
    "df=pd.read_csv(\"Youtube Video Dataset.csv\")\n",
    "# df[\"Description\"][0]"
   ]
  },
  {
   "cell_type": "code",
   "execution_count": 143,
   "metadata": {},
   "outputs": [
    {
     "name": "stdout",
     "output_type": "stream",
     "text": [
      "[['🎥GIANT', 'ALIEN', 'SNAIL', 'IN', 'JAPAN!', '»', 'https://youtu.be/5jcgwu-GvM4', '🇲🇬GO', 'ON', 'YOUR', 'TOUR', 'OF', 'MADAGASCAR!', '»', 'http://bit.ly/Ramartour', '👕GET', 'YOUR', 'BEST', 'EVER', 'MERCH!', '»', 'http://bit.ly/BEFRSMerch', '💗SUPPORT', 'OUR', 'MISSION', '»', 'http://bit.ly/BestEverPatreon', '🛵Learn', 'more', 'about', 'Onetrip’s', 'Vietnam', 'tours', '»', 'http://bit.ly/BEFRSOnetrip', 'Special', 'thanks', 'Joel', 'and', 'Ramartour', 'Madagascar', 'helping', 'us', 'capture', 'undiscovered', 'parts', 'of', 'Madagascar.', 'Go', 'your', 'own', 'tour', 'of', 'Madagascar', 'with', 'Ramartour:', 'http://bit.ly/Ramartour', 'and', 'follow', 'them', 'Instagram', 'more', 'Madagascar', 'info:', '@ramartour_madagascar', '-', '-', '-', '-', '-', '-', '-', '-', '-', '-', '-', '-', '-', '-', '-', '-', '-', '»', 'THE', 'TRADITIONAL', 'FOOD', 'IN', 'MADAGASCAR', '1.', 'TSENA’NY', 'TANTSAHA', 'TALATAMATY:', 'Rice', 'Porridge', '+', 'Chinese', 'Noodle', 'Soup', 'ADDRESS:', 'Talatamaty', 'City', 'OPEN:', '3AM', '-', '7AM', '(or', 'whenever', 'police', 'shut', 'it', 'down)', 'Four', 'miles', 'outside', 'of', 'Madagascar’s', 'capital', 'city,', 'Antananarivo,', 'lies', 'Talatamaty', 'City.', 'Talatamaty', 'City', 'home', 'one', 'of', 'country’s', 'largest', 'local', 'morning', 'markets,', 'Tsena’ny', 'Tantsaha.', 'Sellers', 'open', 'up', 'shop', 'at', '3am,', 'selling', 'everything', 'produce', 'fabrics.', 'And', 'lucky', 'us,', 'market', 'has', 'no', 'shortage', 'of', 'food', 'try', 'as', 'well.', '🥣RICE', 'PORRIDGE:', 'Zebu', '(Malagasy', 'cattle)', 'and', 'sausage', 'are', 'mixed', 'with', 'leaves,', 'ginger,', 'special', 'Malagasy', 'rice,', 'porridge', 'and', 'spices.', '🥡CHINESE', 'NOODLE', 'DISH:', 'Pasta,', 'macaroni,', 'potato,', 'mayonnaise', 'and', 'zebu', 'skin.', '----', '2.', 'TALATA', 'VOLON’ONDRY:', 'Sausage', '+', 'Koba', 'ADDRESS:', 'Talata', 'Volon’ondry', 'OPEN:', 'Varies', 'Talata', 'Volon’ondry', 'village', 'located', 'just', 'outside', 'of', 'Antananarivo.', 'The', 'village', 'known', 'producing', 'sausage', 'and', 'Madagascar’s', 'national', 'snack,', 'koba.', '🥔SAUSAGE:', 'There', 'are', 'typically', 'two', 'types', 'of', 'sausage', 'being', 'sold', '-', 'zebu', 'sausage', 'and', 'halal', 'style', 'potato', 'sausage.', 'snack', 'frequently', 'accompanied', 'local', 'rum.', '🇲🇬KOBA:', 'Lay', 'out', 'banana', 'leaf', 'spines', 'with', 'banana', 'leaves', 'top.', 'Add', 'layer', 'of', 'rice', 'flour', 'prevent', 'koba', 'mixture', 'sticking', 'banana', 'leaves.', 'Then', 'add', 'koba', 'mixture,', 'combination', 'of', 'crushed', 'raw', 'peanuts', 'and', 'sugar.', 'Wrap', 'it', 'all', 'up', 'banana', 'leaves', 'and', 'allow', 'it', 'cook', 'bit', 'of', 'water', '3', 'days.', 'Koba', 'beloved', 'across', 'Madagascar,', 'primarily', 'sold', 'street', 'or', 'people', 'their', 'cars', 'as', 'they', 'drive', 'through', 'city.', 'The', 'fuel', 'ingredients', 'gives', 'people', 'energy', 'and', 'helps', 'them', 'stay', 'full', 'even', 'when', 'walking', 'long', 'distances', 'without', 'and', 'source', 'of', 'food', 'along', 'way.', '💸PRICE:', 'Sausage', '.14', 'USD/500', 'MGA', '|', 'Koba', '.50', 'USD/1,756', 'MGA', '-', '-', '-', '-', '-', '-', '-', '-', '-', '-', '-', '-', '-', '-', '-', '-', '-', '💬COME', 'SAY', 'HI:', 'INSTAGRAM', '»', 'http://bit.ly/BestEverInstagram', '(@besteverfoodreviewshow)', 'FACEBOOK', '»', 'http://bit.ly/BEFRSFacebook', '💗SUPPORT', 'OUR', 'MISSION:', 'Patreon', 'platform', 'that', 'allows', 'people', 'support', 'creators', 'recurring', 'basis.', 'Your', 'contribution', 'an', 'investment', 'creative', 'freedom', 'of', 'my', 'channel', 'and', 'enables', 'keep', 'my', 'content', 'authentic', 'and', 'uninterrupted.', 'Your', 'generous', 'donation', 'allows', 'time', 'and', 'resources', 'create', 'more', 'videos', 'you.', 'We', 'also', 'have', 'pretty', 'sweet', 'rewards,', 'exclusive', 'Patreon', 'Bestys.', '»', 'http://bit.ly/BestEverPatreon', '🥒ABOUT', 'BEFRS:', 'Hey,', 'I’m', 'Sonny!', 'I’m', 'US', 'currently', 'call', 'Vietnam', 'home.', 'I’ve', 'been', 'living', 'Asia', '10', 'years', 'and', 'started', 'making', 'food', 'and', 'travel', 'videos', 'document', 'my', 'experiences.', 'People', 'either', 'enjoyed', 'my', 'undeniable', 'charm', 'or', 'enjoyed', 'watching', 'eat', 'things', 'like', 'coconut', 'worms,', 'and', 'thus', 'Best', 'Ever', 'Food', 'Review', 'Show', 'came', 'be.', 'travel', 'different', 'parts', 'of', 'world,', 'hunting', 'down', 'and', 'documenting', 'most', 'unique', 'food', 'each', 'country', 'has', 'offer.', 'If', 'see', 'any', 'factual', 'food', 'errors', 'my', 'videos,', 'please', 'feel', 'free', 'politely', 'let', 'know', 'comments.', \"I'm\", 'huge', 'fan', 'of', 'trying', 'different,', 'interesting', 'foods', 'each', 'country.', 'My', 'show', 'Western', 'point', 'of', 'view,', 'more', 'importantly,', 'MY', 'point', 'of', 'view.', 'It', 'not', 'meant', 'offend', 'any', 'person', 'or', 'culture.', 'Don’t', 'forget', 'subscribe', 'Best', 'Ever', 'Food', 'Review', 'Show,', 'so', 'we', 'can', 'connect', 'through', 'food', 'and', 'travel', 'and', 'become', 'Bestys!', '-', '-', '-', '-', '-', '-', '-', '-', '-', '-', '-', '-', '-', '-', '-', '-', '-', '🎬CREDITS:', 'DIRECTOR', 'OF', 'PHOTOGRAPHY', '»', 'Bret', 'Hamilton', 'CAMERA', 'OPERATOR', '»', 'Nguyễn', 'Tân', 'Khải', 'VIDEO', 'EDITOR', '»', 'Lê', 'Anh', 'Đỗ', 'COLOR', '&', 'MASTER', '»', 'Quí', 'Nguyễn', 'PRODUCER', '»', 'Liz', 'Peterson', 'For', 'business', 'inquiries,', 'please', 'email:', 'team.befrs@gmail.com'], ['ultimate', 'must-try', 'food', 'bucket', 'list.', 'From', 'burgers', 'dipped', 'cheese', 'classic', 'NY', 'cheesecakes', 'edible', 'cookie', 'dough,', 'are', '42', 'foods', 'have', 'eat', 'before', 'die', 'and', 'where', 'can', 'try', 'them.', '------------------------------------------------------', '#BucketList', '#Cheese', '#FoodInsider', 'INSIDER', 'great', 'journalism', 'about', 'what', 'passionate', 'people', 'actually', 'want', 'know.', 'That’s', 'everything', 'news', 'food,', 'celebrity', 'science,', 'politics', 'sports', 'and', 'all', 'rest.', 'It’s', 'smart.', 'It’s', 'fearless.', 'It’s', 'fun.', 'We', 'push', 'boundaries', 'of', 'digital', 'storytelling.', 'Our', 'mission', 'inform', 'and', 'inspire.', 'Subscribe', 'our', 'channel:', 'http://insder.co/Food', 'and', 'visit', 'us', 'at:', 'https://insder.co/2NCg6Sg', 'FOOD', 'INSIDER', 'Facebook:', 'https://insder.co/2O4gt7A', 'FOOD', 'INSIDER', 'Instagram:', 'http://insder.co/2aywJtk', 'FOOD', 'INSIDER', 'Twitter:', 'https://insder.co/2IahHsi', 'INSIDER', 'Snapchat:', 'https://insder.co/2KJLtVo', '42', 'Foods', 'You', 'Need', 'To', 'Eat', 'Before', 'You', 'Die'], ['We', 'found', '5', 'of', 'best', 'and', 'most', 'interesting', 'Indian', 'recipes', 'channel,', 'including', 'footage', 'Gordon’s', 'time', 'spent', 'India.', 'Gordon', 'Ramsay', 'Ultimate', 'Fit', 'Food:', 'http://amzn.to/2FznHtk', 'Subscribe', 'weekly', 'cooking', 'videos.', 'If', 'liked', 'clip', 'check', 'out', 'rest', 'of', \"Gordon's\", 'channels:', 'http://www.youtube.com/gordonramsay', 'http://www.youtube.com/kitchennightmares', 'http://www.youtube.com/thefword'], [\"You're\", 'most', 'likely', 'sitting', 'restaurant', 'with', 'set', 'of', 'chopsticks', 'your', 'hand', 'saying', '\"what', 'do', 'i', 'do', 'with', 'these?\"', 'Some', 'of', 'videos', 'watch', 'seem', 'take', 'forever', 'learn.', 'video', 'all', 'about', 'simplicity.', 'Although', 'traditional', 'method', 'how', 'use', 'chopsticks,', 'video', 'will', 'show', 'simple', 'way', 'start', 'using', 'them', 'right', 'away.', 'Once', 'master', 'simple', 'technique,', 'traditional', 'method', 'will', 'be', 'cinch', 'learn.', 'Not', 'mention,', 'can', 'finally', 'start', 'eating', 'your', 'dinner.', 'There', 'are', 'many', 'methods,', 'have', 'found', 'one', 'easiest', 'learn', 'and', 'with', 'little', 'practice,', 'will', 'be', 'chopsticks', 'master', 'no', 'time.', 'Good', 'Luck!', '---', 'Please', 'support', 'below', 'if', 'like', 'our', 'content.', '(amazon', 'affiliate', 'link)', '8', 'Pc', 'Knife', 'Set', 'with', 'Rotating', 'Block:', 'https://amzn.to/2S7v2pt', 'Instant', 'Pot', 'Ultra', '6', 'Qt:', 'https://amzn.to/2BrZwM0', 'EZ', 'off', 'Jar', 'Lid', 'Opener:', 'https://amzn.to/2UY63af', 'Clip', 'food', 'strainer', 'spaghetti:', 'https://amzn.to/2S8DB3x', 'Corn', 'cob', 'stripper:', 'https://amzn.to/2QEfywz', 'Grease', 'Splatter', 'Screen:', 'https://amzn.to/2R2coSS', 'OXO', 'Fish', 'Turner:', 'https://amzn.to/2R67R1z', 'Kuhn', 'Rikon', 'Swivel', 'Peeler:', 'https://amzn.to/2UQUr8K', 'Cauliflower', 'Prep', 'Tool:', 'https://amzn.to/2QHBcAb', 'ThermoPro', 'Meat', 'Thermometer:', 'https://amzn.to/2QFXLoC', 'Ozeri', 'Pro', 'Kitchen', 'Scale:', 'https://amzn.to/2R5ujbd', 'Pizza', 'Cutter', 'Wheel:', 'https://amzn.to/2R9WaHq', 'ORBLUE', 'Apple', 'Corer:', 'https://amzn.to/2S7lz1x', 'Whisk', 'Wiper', 'Tool:', 'https://amzn.to/2S8OP89', 'KIBEE', 'Dish', 'Drying', 'Rack:', 'https://amzn.to/2Bp9XzC', 'ZYLISS', 'Can', 'Opener:', 'https://amzn.to/2S7RA9K', 'Kikkerland', 'Ice', 'Tray:', 'https://amzn.to/2R0xe53', 'KitchenIQ', 'Knife', 'Sharpener:', 'https://amzn.to/2BqOIO4', 'Pineapple', 'cutter', 'corer:', 'https://amzn.to/2QGS1v2', 'Easylife', 'Measuring', 'Spoons:', 'https://amzn.to/2BqKNRj', 'Premium', 'Sharpening', 'Stone:', 'https://amzn.to/2EEymph', 'Meat', 'Tenderizer:', 'https://amzn.to/2rLxcj0', 'Professional', 'Zester', 'and', 'grater:', 'https://amzn.to/2Cltgvn', 'Stainless', 'Steel', 'Spider', 'Strainer:', 'https://amzn.to/2S7mlvt', 'Creme', 'Brulee', 'Torch:', 'https://amzn.to/2Cm7FDh', 'Laser', 'Digital', 'Thermometer:', 'https://amzn.to/2SbcDs6', 'OXO', 'Avocado', 'Slicer:', 'https://amzn.to/2CndMHz', '5', 'Blade', 'Kitchen', 'Sears:', 'https://amzn.to/2S9Vij0', 'All', 'Clad', 'Pans:', 'https://amzn.to/2ED7g1r', 'DALSTRONG', 'Chefs', 'Knife:', 'https://amzn.to/2UQWVE6', 'Large', 'Walnut', 'Cutting', 'Board:', 'https://amzn.to/2S7ubVN', '___', 'Music', 'by:', 'www.epidemicsound.com', 'Check', 'them', 'out!'], ['HELP', 'SUPPORT', 'SINSTV!!', 'Shop', 'Our', 'Sponsors!', 'Last', 'Longer', 'Bed', '➡️http://Promescent.com/johnnysins', 'Get', 'Clean/Pick', 'up', 'Girls!', '➡️http://tacticalsoap.com?rfsn=1579904....', 'Shop', 'Sins', 'Merch', '➡️', 'ShopSinsLife.com', 'Links', 'Equipment', 'use!!', 'Big', 'Camera:', 'Canon', '80D', 'https://goo.gl/p8APyF', 'Wide', 'Angle', 'Lens:', 'https://goo.gl/FWDvg8', 'Mic:', 'Shure', 'VP83', 'https://goo.gl/8iKbqL', 'Tripod:', 'Joby', 'https://goo.gl/362QQC', 'Other', 'Tripod:', 'Lammcou', 'https://goo.gl/eDPZFC', 'Small', 'Camera:', 'Canon', 'GX7', 'https://goo.gl/uGK3Aq', 'Drone:', 'DJI', 'Mavic', 'Pro', 'https://goo.gl/H1dKDd', 'GoPro', 'Hero', '5:', 'https://goo.gl/mHXNvv', 'GoPro', 'Stabilizer:', 'https://goo.gl/q3xwY4', 'Computer:', 'Apple', 'MacBook', 'Pro', 'https://goo.gl/LM5HJi', 'Editing:', 'Abobe', 'Premiere:', 'https://www.adobe.com/products/premie...', 'Follow', 'me!', 'Twitter:', '@JohnnySins', 'Instagram:', '@JohnnySins', 'Facebook:', 'Facebook.com/RealJohnnySins', 'VK:', 'VK.com/JohnnySinsXXX', 'SnapChat:', 'SinsLifeDotCom', 'Amazon', 'Wish', 'List:', 'http://a.co/c9Foaeg', 'Blog/Erotic', 'Writing:', 'SinsLife.Tumblr.com', 'Kissa’s', 'Social', 'Media:', 'Twitter:', '@KissaSins', 'Instagram:', '@CoyoteLovesYou', 'Mailing', 'Address:', '4001', 'S.', 'Decatur', 'Blvd.', 'Suite', '37-534', 'Las', 'Vegas,', 'NV', '89103'], ['After', 'Blippi', 'eats', 'his', 'vegetables', 'Blippi', 'takes', 'tour', 'of', 'chocolate', 'factory', 'see', 'how', 'sweet', 'treats', 'are', 'made.', 'Make', 'sure', 'your', 'child', 'eats', 'their', 'healthy', 'food', 'first', 'then', 'they', 'can', 'watch', 'Blippi', 'Chocolate', 'Factory', 'video', 'so', 'they', 'can', 'learn', 'about', 'all', 'types', 'of', 'food', 'children.', 'Blippi', 'makes', 'educational', 'videos', 'toddlers', 'and', 'video', 'your', 'child', 'will', 'join', 'Blippi', 'making', 'candy', 'and', 'chocolate!', 'Watch', 'more', 'and', 'subscribe', 'Blippi', 'at', 'https://youtube.com/Blippi?sub_confirmation=1', 'For', 'full', 'Blippi', 'playlist', 'and', 'Blippi', 'videos', 'and', 'Blippi', 'songs', 'can', 'watch', 'here:', 'https://www.youtube.com/watch?v=rPe4yziWiOg&list=PLzgk_uTg08P-UbUdr1x0gPdC5tVAixw8_', 'Another', 'Blippi', 'video', 'like', 'Blippi', 'candy', 'factory', 'video', 'be', 'sure', 'watch', 'Blippi', 'Ice', 'Cream', 'Truck', 'video:', 'https://www.youtube.com/watch?v=o5-MkuEnDoA', 'And', 'if', 'they', 'want', 'video', 'of', 'ONLY', 'healthy', 'food', 'check', 'out', 'Blippi', 'fruit', 'video:', 'https://www.youtube.com/watch?v=H7FUoV7R_w4'], ['http://bit.ly/subscribeMT', 'video,', 'will', 'see', \"'hunting'\", 'best', 'mobile', 'network', 'Egypt.', 'Based', 'feedback', 'many', 'people', 'chose', 'buy', 'Vodafone.', 'The', 'sim', 'cost', '150', 'LE.', 'There', 'are', 'other', 'mobile', 'networks', 'like', 'Etisalat,', 'Orange', '(formerly', 'Mobinil)', 'and', 'We', '(Government', 'owned).', 'Talking', 'about', 'availability', 'of', 'vegetarian', 'food', 'Egypt,', 'it', 'not', 'that', 'difficult', 'as', 'it', 'was', 'most', 'of', 'South-East', 'Asian', 'countries.', 'have', 'shared', 'my', 'food', 'expenses', 'video.', 'Also,', 'will', 'see', 'incidents', 'of', 'tourist', 'hassles.', 'The', 'beginning', 'of', 'video', 'about', 'corrupt', 'practice', 'which', 'found', 'hotels', 'do', 'Egypt.', 'have', 'shared', 'more', 'information', '-', 'http://www.touristhelpline.com/egypt-vegetarian-food-mobile-sim-local-transport-hostels/', 'If', 'have', 'any', 'other', 'query', 'feel', 'free', 'ask', 'at', '-', 'www.facebook.com/groups/touristhelpline', '(It', 'may', 'not', 'be', 'possible', 'answer', 'every', 'question', 'here,', 'other', 'group', 'members,', 'travellers,', 'and', 'travel', 'experts', 'can', 'help', 'you)', 'Other', 'travel', 'series', '-', '#', 'THAILAND', 'playlist', '-', 'http://bit.ly/MTthailand2017', '#', 'EUROPE', 'Playlist', '-', 'http://bit.ly/MTeurope2016', '#', 'BANGLADESH', 'playlist', '-', 'http://bit.ly/MTbangladesh2015', '#', 'SPITI', '(India)', 'playlist', '-', 'http://bit.ly/MTspiti2017', '#', 'MALAYSIA', 'playlist', '-', 'http://bit.ly/MTmalaysia2017', '#', 'RUSSIA', 'playlist', '-', 'http://bit.ly/MTrussia2017', '#', 'BALI', 'playlist', '-', 'http://bit.ly/MTbali2017', '#', 'MIZORAM', 'playlist', '-', 'http://bit.ly/MTmizoram2017', 'PLEASE', 'SHARE', 'THE', 'VIDEOS', 'AND', 'LET', 'OTHERS', 'GET', 'INFORMED', 'ABOUT', 'THIS', 'CHANNEL', 'My', 'blog:', 'www.touristhelpline.com', 'INSTAGRAM.com/touristhelpline', 'FACEBOOK.com/page.touristhelpline', 'TWITTER.com/touristhelpline', 'Aitech', 'Kevin', 'MacLeod', 'licensed', 'under', 'Creative', 'Commons', 'Attribution', 'licence', '(https://creativecommons.org/licenses/by/4.0/)', 'Source:', 'http://incompetech.com/music/royalty-free/index.html?isrc=USUAN1100336', 'Artist:', 'http://incompetech.com/', 'THINGS', 'USE', 'WHILE', 'TRAVELLING', 'Camera', '1:', 'https://goo.gl/hhx1fy', 'Camera', '2:', 'http://amzn.to/2gHOIRU', 'Gimbal:', 'http://amzn.to/2B9cSPW', 'Monopod:', 'http://amzn.to/2zUY42W', 'phone:', 'http://amzn.to/2fzxeFn', 'For', 'Video', 'editing:', 'http://amzn.to/2oCWOQa', 'Rucksack', '-', 'http://amzn.to/2jiCpha'], ['Trying', 'many', 'different', 'kinds', 'of', 'chinese', 'street', 'food', 'at', 'Liuhe', 'Tourist', 'Night', 'Market', 'located', 'south', 'of', 'Taiwan', 'Liuhe', 'Tourist', 'Night', 'Market', 'Address:', 'Liuhe', '2nd', 'Road,', 'Xinxing', 'District,', 'Kaohsiung', 'City,', 'Taiwan', '800'], ['Alright', 'guys', 'i', 'hope', 'liked', 'my', 'video.', 'About', 'With', 'an', 'aim', 'find', 'somewhat', 'solution', 'dilemma,', 'three', 'day', 'food', 'festival', 'titled,', '‘Horn', 'OK', 'Please', '-', 'Delhi’s', 'Happiest', 'Food', 'Festival’', 'was', 'organised', 'Digant', 'Sharma,', 'founder,', 'So', 'Delhi.', '“Most', 'food', 'festivals', 'feature', 'eateries', 'and', 'dishes', 'that', 'have', 'skyrocketing', 'prices,', 'and', 'with', '5th', 'edition', 'of', 'festival,', 'we', 'aim', 'offer', 'delicious', 'food', 'and', 'more', 'at', 'pocket-friendly', 'prices”,', 'he', 'says.', 'festival', 'was', 'family-friendly', 'food', 'carnival', 'showcasing', '150+', 'eateries', 'across', 'city.', 'However', 'fest', 'was', 'not', 'just', 'plethora', 'of', 'food', 'stalls.', 'The', 'festival', 'included', 'flea', 'market', 'called', '‘Quirk', 'Bazzar’', 'which', 'featured', 'souvenirs,', 'stationary', 'and', 'apparels.', 'Along', 'with', 'that,', 'public', 'could', 'have', 'tried', 'their', 'hand', 'VR,', 'Bungee,', 'Bull', 'Riding,', 'Segway', '&', 'ATV', 'rides', 'zone', 'called', '‘Experience', 'Zone’.', 'Coming', 'food', 'side', 'of', 'fest,', 'were', 'food', 'carts', 'and', 'food', 'wheels', 'also', 'known', 'as', 'food', 'trucks', 'that', 'served', 'food', 'at', 'reasonable', 'rates', 'and', 'food', 'stalls', 'that', 'served', 'items', 'that', 'one', 'could', 'not', 'have', 'even', 'imagined.', 'Whether', 'one', 'wanted', 'have', 'simple', 'pizza', 'or', 'one', 'craved', 'pancake', 'or', 'waffle;', 'if', 'one', 'craved', 'oriental', 'or', 'simple', 'kathi', 'roll,', 'it', 'was', 'all', 'there.', 'MY', 'SOCIAL', 'LINKS', 'https://www.instagram.com/hyper_face21', 'Music', 'provided', 'by:https://www.youtube.com/user/NoCopyrightSounds'], ['🎥VILLAGE', 'FOOD', 'IN', 'MADAGASCAR!', '»', 'https://youtu.be/EwBA1fOQ96c', '🇲🇬GO', 'ON', 'YOUR', 'TOUR', 'OF', 'MADAGASCAR!', '»', 'http://bit.ly/Ramartour', '👕GET', 'YOUR', 'BEST', 'EVER', 'MERCH!', '»', 'http://bit.ly/BEFRSMerch', '💗SUPPORT', 'OUR', 'MISSION', '»', 'http://bit.ly/BestEverPatreon', '🛵Learn', 'more', 'about', 'Onetrip’s', 'Vietnam', 'tours', '»', 'http://bit.ly/BEFRSOnetrip', 'Special', 'thanks', 'Joel', 'and', 'Ramartour', 'Madagascar', 'helping', 'us', 'taste', 'of', 'best', 'street', 'food', 'Antananarivo.', 'Go', 'your', 'own', 'tour', 'of', 'Madagascar', 'with', 'Ramartour:', 'http://bit.ly/Ramartour', 'and', 'follow', 'them', 'Instagram', 'see', 'more', 'of', 'Madagascar', '@ramartour_madagascar', '-', '-', '-', '-', '-', '-', '-', '-', '-', '-', '-', '-', '-', '-', '-', '-', '-', '»', 'THE', 'MALAGASY', 'STREET', 'FOOD', '1.', 'SELESY:', 'Mofo', 'Akondro', '(Fried', 'Bananas)', '+', 'Mofo', 'Anana', '(Fried', 'Vegetable)', 'ADDRESS:', 'Antananarivo', 'OPEN:', 'Varies', '🍌We', 'began', 'our', 'street', 'food', 'journey', 'with', 'stop', 'at', 'one', 'of', 'Antananarivo’s', 'popular', 'fried', 'banana', 'and', 'fried', 'vegetable', 'stalls.', 'Two', 'popular', 'snacks', 'Malagasy', 'people', 'are', 'fried', 'bananas,', 'which', 'are', 'sliced', 'and', 'then', 'dipped', 'into', 'rice', 'and', 'wheat', 'flour', 'batter', 'before', 'being', 'fried;', 'and', 'fried', 'green', 'onion,', 'mixed', 'with', 'same', 'batter,', 'fried', 'and', 'then', 'eaten', 'with', 'side', 'of', 'chili', 'vinegar', 'sauce.', '💸PRICE:', '.13', 'USD/500', 'MGA', 'per', 'piece', '----', '2.', 'STREET', 'FOOD', 'STALL:', 'Coconut', 'Sweet', 'ADDRESS:', 'Antananarivo', 'OPEN:', 'Varies', '🥥PINK', 'COCONUT', 'SWEET:', 'Shaved', 'coconut', 'and', 'sugar', 'are', 'mixed', 'together,', 'then', 'pink', 'food', 'coloring', 'added', 'attract', 'people', 'buy', 'sweet', 'treat.', '💸PRICE:', '.08', 'USD/280', 'MGA', '----', '3.', 'MALAGASY', 'CAFETERIA:', 'Zebu', 'Sausage', '+', 'Chicken', '+', 'Baked', 'Beans', '+', 'Rice', 'ADDRESS:', 'Antananarivo', 'OPEN:', 'Lunch', '+', 'Dinner', '🍛This', 'open-air', 'cafeteria', 'common', 'lunch', 'stop', 'people', 'Madagascar.', 'Lunch', 'generally', 'consists', 'of', 'rice,', 'beans,', 'zebu', 'sausage', 'or', 'chicken', 'and', 'side', 'vegetable.', 'let', 'Joel', 'enjoy', 'all', 'of', 'veggies.', '💸PRICE:', '1.42', 'USD/5,000', 'MGA', '----', '4.', 'SOPERO', 'MILOMBOKO:', 'Grilled', 'Zebu', 'Pako-Pako', 'ADDRESS:', 'Antananarivo', '🥙Grilled', 'zebu', 'type', 'of', 'cattle', 'originating', 'East', 'Africa.', 'The', 'zebu', 'meat', 'mixed', 'with', 'garlic', 'and', 'ginger', 'before', 'being', 'grilled.', 'Pako-Pako', 'unique', 'Malagasy', 'flatbread', 'only', 'served', 'with', 'grilled', 'zebu', 'meat.', 'Rice', 'flour', 'mixed', 'with', 'coconut', 'milk', 'and', 'oil,', 'then', 'kneaded', 'and', 'portioned', 'into', 'perfectly', 'sized', 'balls.', 'The', 'dough', 'flattened', 'and', 'fried', 'oil', 'perfection.', 'Fresh', 'pickled', 'vegetable', 'salad', 'typically', 'accompanies', 'traditional', 'meal.', '💸PRICE:', '.28', 'USD/1,000', 'MGA', '----', '5.', 'STREET', 'VENDOR:', 'Mofo', 'Gasy', '(Malagasy', 'Bread)', 'ADDRESS:', 'Antananarivo', 'Rice', 'flour', 'batter', 'rolled', 'into', 'ball', 'and', 'fried', 'oil', 'before', 'being', 'topped', 'off', 'with', 'salt.', 'Little', 'round', 'fried', 'bread', 'tastes', 'bit', 'like', 'salty', 'donut', 'and', 'makes', 'perfect', 'afternoon', 'snack.', '💸PRICE:', '.02', 'USD/70', 'MGA', 'per', 'piece', '----', '6.', 'STREET', 'FOOD', 'STALL:', 'Zebu', 'Mouth', 'Salad', '+', 'Chicken', 'Legs', '🐮ZEBU', 'MOUTH', 'SALAD:', 'Green', 'peppers,', 'onion,', 'vinegar,', 'zebu', 'mouth', 'and', 'lime.', '🍗A', 'common', 'meal', 'Madagascar', 'consists', 'of', 'chicken', 'stock', 'soup', 'with', 'noodles', 'and', 'fried', 'chicken', 'legs.', '💸PRICE:', '.28', 'USD/1,000', 'MGA', 'per', 'chicken', 'leg', '-', '-', '-', '-', '-', '-', '-', '-', '-', '-', '-', '-', '-', '-', '-', '-', '-', '💬COME', 'SAY', 'HI:', 'INSTAGRAM', '»', 'http://bit.ly/BestEverInstagram', '(@besteverfoodreviewshow)', 'FACEBOOK', '»', 'http://bit.ly/BEFRSFacebook', '💗SUPPORT', 'OUR', 'MISSION:', 'Patreon', 'platform', 'that', 'allows', 'people', 'support', 'creators', 'recurring', 'basis.', 'Your', 'contribution', 'an', 'investment', 'creative', 'freedom', 'of', 'my', 'channel', 'and', 'enables', 'keep', 'my', 'content', 'authentic', 'and', 'uninterrupted.', 'Your', 'generous', 'donation', 'allows', 'time', 'and', 'resources', 'create', 'more', 'videos', 'you.', 'We', 'also', 'have', 'pretty', 'sweet', 'rewards,', 'exclusive', 'Patreon', 'Bestys.', '»', 'http://bit.ly/BestEverPatreon', '🥒ABOUT', 'BEFRS:', 'Hey,', 'I’m', 'Sonny!', 'I’m', 'US', 'currently', 'call', 'Vietnam', 'home.', 'I’ve', 'been', 'living', 'Asia', '10', 'years', 'and', 'started', 'making', 'food', 'and', 'travel', 'videos', 'document', 'my', 'experiences.', 'People', 'either', 'enjoyed', 'my', 'undeniable', 'charm', 'or', 'enjoyed', 'watching', 'eat', 'things', 'like', 'coconut', 'worms,', 'and', 'thus', 'Best', 'Ever', 'Food', 'Review', 'Show', 'came', 'be.', 'travel', 'different', 'parts', 'of', 'world,', 'hunting', 'down', 'and', 'documenting', 'most', 'unique', 'food', 'each', 'country', 'has', 'offer.', 'If', 'see', 'any', 'factual', 'food', 'errors', 'my', 'videos,', 'please', 'feel', 'free', 'politely', 'let', 'know', 'comments.', \"I'm\", 'huge', 'fan', 'of', 'trying', 'different,', 'interesting', 'foods', 'each', 'country.', 'My', 'show', 'Western', 'point', 'of', 'view,', 'more', 'importantly,', 'MY', 'point', 'of', 'view.', 'It', 'not', 'meant', 'offend', 'any', 'person', 'or', 'culture.', 'Don’t', 'forget', 'subscribe', 'Best', 'Ever', 'Food', 'Review', 'Show,', 'so', 'we', 'can', 'connect', 'through', 'food', 'and', 'travel', 'and', 'become', 'Bestys!', '-', '-', '-', '-', '-', '-', '-', '-', '-', '-', '-', '-', '-', '-', '-', '-', '-', '🎬CREDITS:', 'DIRECTOR', 'OF', 'PHOTOGRAPHY', '»', 'Bret', 'Hamilton', 'CAMERA', 'OPERATOR', '»', 'Nguyễn', 'Tân', 'Khải', 'VIDEO', 'EDITOR', '»', 'Dương', 'Quốc', 'Huy', 'COLOR', '&', 'MASTER', '»', 'Quí', 'Nguyễn', 'PRODUCER', '»', 'Liz', 'Peterson', 'For', 'business', 'inquiries,', 'please', 'email:', 'team.befrs@gmail.com']]\n"
     ]
    }
   ],
   "source": [
    "t1=[]\n",
    "r=pd.DataFrame(columns=[\"word\",\"cnt\"])\n",
    "temp=[]\n",
    "x=df[df['Category']==\"Food\"]\n",
    "x=x.head(10)\n",
    "# print(x)\n",
    "count=0\n",
    "for j in x[\"Description\"]:\n",
    "    temp=j.split()\n",
    "#     print(j)\n",
    "    temp=[e for e in temp if e not in ('to','for','from','some','get','you','','is','in','this','the','a','\\n','here','there','This','but','A','In','Hi','by','on','I','me')]\n",
    "#     print(temp)\n",
    "#     count=count+1\n",
    "#     print(count)\n",
    "#     temp.remove('\\n')\n",
    "#     temp.remove('is')\n",
    "#     temp.remove('a')\n",
    "#     temp.remove('the')\n",
    "#     temp.remove('by')\n",
    "#     temp.remove('me')\n",
    "#     temp.remove('here')\n",
    "#     temp.remove('there')\n",
    "#     temp.remove('.')\n",
    "   \n",
    "    t1.append(temp)\n",
    "print(t1)\n",
    "    \n",
    "#     for i in t1:\n",
    "#         print(t1)\n",
    "#         r=r.append({\"word\":i,\"cnt\":t1.count(i)},ignore_index=True)\n",
    "        \n",
    "# print(r)"
   ]
  },
  {
   "cell_type": "code",
   "execution_count": null,
   "metadata": {},
   "outputs": [],
   "source": []
  },
  {
   "cell_type": "code",
   "execution_count": 18,
   "metadata": {},
   "outputs": [
    {
     "data": {
      "text/plain": [
       "0                     Food\n",
       "1828         manufacturing\n",
       "3527               History\n",
       "5172           travel blog\n",
       "7372    Science&Technology\n",
       "9446             Art&Music\n",
       "Name: Category, dtype: object"
      ]
     },
     "execution_count": 18,
     "metadata": {},
     "output_type": "execute_result"
    }
   ],
   "source": [
    "df['Category'].drop_duplicates()"
   ]
  },
  {
   "cell_type": "code",
   "execution_count": null,
   "metadata": {},
   "outputs": [],
   "source": []
  }
 ],
 "metadata": {
  "kernelspec": {
   "display_name": "Python 3",
   "language": "python",
   "name": "python3"
  },
  "language_info": {
   "codemirror_mode": {
    "name": "ipython",
    "version": 3
   },
   "file_extension": ".py",
   "mimetype": "text/x-python",
   "name": "python",
   "nbconvert_exporter": "python",
   "pygments_lexer": "ipython3",
   "version": "3.7.3"
  }
 },
 "nbformat": 4,
 "nbformat_minor": 2
}
